{
 "cells": [
  {
   "cell_type": "code",
   "execution_count": 33,
   "metadata": {},
   "outputs": [],
   "source": [
    "import numpy as np\n",
    "import pandas as pd\n",
    "from sklearn.model_selection import train_test_split\n",
    "from sklearn.linear_model import LogisticRegression\n",
    "from sklearn.metrics import accuracy_score\n",
    "from sklearn.datasets import make_classification"
   ]
  },
  {
   "cell_type": "code",
   "execution_count": 34,
   "metadata": {},
   "outputs": [],
   "source": [
    "# 生成模拟数据：标注数据和未标注数据\n",
    "# 我们用 make_classification 创建一个二分类问题的数据集\n",
    "X, y = make_classification(n_samples=10000, n_features=20, n_informative=15, n_classes=2, random_state=42)"
   ]
  },
  {
   "cell_type": "code",
   "execution_count": 35,
   "metadata": {},
   "outputs": [
    {
     "data": {
      "text/plain": [
       "((10000, 20), (10000,))"
      ]
     },
     "execution_count": 35,
     "metadata": {},
     "output_type": "execute_result"
    }
   ],
   "source": [
    "X.shape, y.shape"
   ]
  },
  {
   "cell_type": "code",
   "execution_count": 36,
   "metadata": {},
   "outputs": [],
   "source": [
    "# 将数据分成标注和未标注的部分\n",
    "X_train_labeled, X_unlabeled, y_train_labeled, _ = train_test_split(X, y, test_size=0.8, random_state=42)\n",
    "X_unlabeled, X_test, _, y_test = train_test_split(X_unlabeled, _, test_size=0.25, random_state=42)"
   ]
  },
  {
   "cell_type": "code",
   "execution_count": 37,
   "metadata": {},
   "outputs": [
    {
     "name": "stdout",
     "output_type": "stream",
     "text": [
      "Labeled data: 2000 samples\n",
      "Unlabeled data: 6000 samples\n",
      "Test data: 2000 samples\n",
      "Initial model accuracy: 0.8275\n",
      "Number of high-confidence pseudo-labeled samples: 2704\n",
      "Model accuracy after self-training: 0.8275\n"
     ]
    }
   ],
   "source": [
    "\n",
    "print(f\"Labeled data: {X_train_labeled.shape[0]} samples\")\n",
    "print(f\"Unlabeled data: {X_unlabeled.shape[0]} samples\")\n",
    "print(f\"Test data: {X_test.shape[0]} samples\")\n",
    "\n",
    "# 第一步：训练初始模型\n",
    "initial_model = LogisticRegression()\n",
    "initial_model.fit(X_train_labeled, y_train_labeled)\n",
    "\n",
    "# 用初始模型预测测试集的准确率\n",
    "y_pred_initial = initial_model.predict(X_test)\n",
    "initial_accuracy = accuracy_score(y_test, y_pred_initial)\n",
    "print(f\"Initial model accuracy: {initial_accuracy:.4f}\")\n",
    "\n",
    "# 第二步：使用模型对未标注数据进行预测，并生成伪标签\n",
    "unlabeled_probabilities = initial_model.predict_proba(X_unlabeled)\n",
    "unlabeled_confidence = np.max(unlabeled_probabilities, axis=1)  # 选择最高置信度\n",
    "unlabeled_labels = np.argmax(unlabeled_probabilities, axis=1)  # 对应的伪标签\n",
    "\n",
    "# 设置置信度阈值，只选择高置信度样本\n",
    "confidence_threshold = 0.9\n",
    "high_confidence_indices = np.where(unlabeled_confidence >= confidence_threshold)[0]\n",
    "X_pseudo_labeled = X_unlabeled[high_confidence_indices]\n",
    "y_pseudo_labeled = unlabeled_labels[high_confidence_indices]\n",
    "\n",
    "print(f\"Number of high-confidence pseudo-labeled samples: {len(y_pseudo_labeled)}\")\n",
    "\n",
    "# 第三步：将伪标签数据加入训练集，重新训练模型\n",
    "X_train_combined = np.vstack([X_train_labeled, X_pseudo_labeled])\n",
    "y_train_combined = np.hstack([y_train_labeled, y_pseudo_labeled])\n",
    "\n",
    "# 重新训练模型\n",
    "model_with_pseudo_labels = LogisticRegression()\n",
    "model_with_pseudo_labels.fit(X_train_combined, y_train_combined)\n",
    "\n",
    "# 第四步：评估模型性能\n",
    "y_pred_with_pseudo_labels = model_with_pseudo_labels.predict(X_test)\n",
    "final_accuracy = accuracy_score(y_test, y_pred_with_pseudo_labels)\n",
    "print(f\"Model accuracy after self-training: {final_accuracy:.4f}\")"
   ]
  }
 ],
 "metadata": {
  "kernelspec": {
   "display_name": "ai",
   "language": "python",
   "name": "python3"
  },
  "language_info": {
   "codemirror_mode": {
    "name": "ipython",
    "version": 3
   },
   "file_extension": ".py",
   "mimetype": "text/x-python",
   "name": "python",
   "nbconvert_exporter": "python",
   "pygments_lexer": "ipython3",
   "version": "3.11.9"
  }
 },
 "nbformat": 4,
 "nbformat_minor": 2
}
