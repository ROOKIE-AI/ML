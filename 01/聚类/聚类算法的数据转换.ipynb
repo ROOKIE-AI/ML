{
 "cells": [
  {
   "cell_type": "markdown",
   "metadata": {},
   "source": [
    "## 1. 为什么对于数值数据, 默认采用分位数呢? 它的优势是什么?"
   ]
  },
  {
   "cell_type": "code",
   "execution_count": 1,
   "metadata": {},
   "outputs": [
    {
     "name": "stdout",
     "output_type": "stream",
     "text": [
      "    value  quantile_rank\n",
      "0       1              0\n",
      "1       2              0\n",
      "2       3              0\n",
      "3       4              1\n",
      "4       5              1\n",
      "5       6              1\n",
      "6       7              2\n",
      "7       8              2\n",
      "8       9              3\n",
      "9      10              3\n",
      "10    100              3\n"
     ]
    }
   ],
   "source": [
    "import pandas as pd\n",
    "\n",
    "data = [1, 2, 3, 4, 5, 6, 7, 8, 9, 10, 100]\n",
    "df = pd.DataFrame(data, columns=['value'])\n",
    "\n",
    "# 使用 pandas 的 qcut 函数进行分位数转换\n",
    "df['quantile_rank'] = pd.qcut(df['value'], q=4, labels=False)\n",
    "print(df)"
   ]
  },
  {
   "cell_type": "code",
   "execution_count": null,
   "metadata": {},
   "outputs": [],
   "source": []
  }
 ],
 "metadata": {
  "kernelspec": {
   "display_name": "d2l",
   "language": "python",
   "name": "python3"
  },
  "language_info": {
   "codemirror_mode": {
    "name": "ipython",
    "version": 3
   },
   "file_extension": ".py",
   "mimetype": "text/x-python",
   "name": "python",
   "nbconvert_exporter": "python",
   "pygments_lexer": "ipython3",
   "version": "3.8.19"
  }
 },
 "nbformat": 4,
 "nbformat_minor": 2
}
