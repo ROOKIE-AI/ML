{
 "cells": [
  {
   "cell_type": "markdown",
   "metadata": {},
   "source": [
    "# 机器学习基础"
   ]
  },
  {
   "cell_type": "markdown",
   "metadata": {},
   "source": [
    "<b/>Rookie的机器学习自学笔记</b><br>\n",
    "\n",
    "整体大纲主要参照[吴恩达机器学习](https://b23.tv/tgHt97K)课程<br>\n",
    "补充性阅读教材：《机器学习》([西瓜书](./机器学习（西瓜书）.pdf))"
   ]
  },
  {
   "cell_type": "markdown",
   "metadata": {},
   "source": [
    "## Catalogue(目录)"
   ]
  },
  {
   "cell_type": "markdown",
   "metadata": {},
   "source": [
    "一. 基础部分\n",
    "1. [机器学习应用](./01.MachineLearningApply/)\n",
    "   * 1.1 [机器学习的应用](./01.MachineLearningApply/Apply.md)\n",
    "2. [基本概念](./02.BasicConcepts/)\n",
    "   * 2.1 [什么是机器学习?](./02.BasicConcepts/whatIsML.ipynb) \n",
    "   * 2.2 [监督学习、非监督学习、强化学习](./02.BasicConcepts/2.2.ipynb)\n",
    "3. [线性模型](./03.LinearRegressionWithOneVariable/)\n",
    "   * [3.1 基本形式](./03.LinearRegressionWithOneVariable/3-1_Basic.ipynb)\n",
    "   * [3.2 线性回归](./03.LinearRegressionWithOneVariable/3-2_LR.ipynb)\n",
    "   * [3.3 对数几率回归](./03.LinearRegressionWithOneVariable/3-3_logit-regression.ipynb)\n",
    "   * [3.4 线性判别分析](./03.LinearRegressionWithOneVariable/3-4_LRA.ipynb)\n",
    "4. [梯度下降](./04.BP/)\n",
    "   * [4.0 可视化代价函数](./04.BP/4-0_Visualizing_the_cost_function.ipynb)\n",
    "   * [4.1 基本理论](./04.BP/4-1_Basic.ipynb)\n",
    "   * [4.2 手动实现](./04.BP/4-2_DIY_BP.ipynb)\n",
    "   * [4.3 直观理解](./04.BP/4-3_Gradient-Descent-Intuition.ipynb)\n",
    "   * [4.4 多元线性回归梯度下降](./04.BP/4-4_Gradient-Descent-for-Multiple-Regression.ipynb)\n",
    "   * [4.5 向量化](./04.BP/4-5_Vectorization.ipynb)\n",
    "   * [4.6 特征缩放](./04.BP/4-6_Feature-Scaling.ipynb)\n",
    "   * [4.7 学习率](./04.BP/4-7_Learning-Rate.ipynb)\n",
    "   * [4.8 特征工程](./04.BP/4-8_Feature-Engineering.ipynb)\n",
    "   \n",
    "   "
   ]
  },
  {
   "cell_type": "markdown",
   "metadata": {},
   "source": []
  },
  {
   "cell_type": "markdown",
   "metadata": {},
   "source": []
  },
  {
   "cell_type": "markdown",
   "metadata": {},
   "source": []
  }
 ],
 "metadata": {
  "kernelspec": {
   "display_name": "Python 3 (ipykernel)",
   "language": "python",
   "name": "python3"
  },
  "language_info": {
   "codemirror_mode": {
    "name": "ipython",
    "version": 3
   },
   "file_extension": ".py",
   "mimetype": "text/x-python",
   "name": "python",
   "nbconvert_exporter": "python",
   "pygments_lexer": "ipython3",
   "version": "3.10.14"
  }
 },
 "nbformat": 4,
 "nbformat_minor": 4
}
