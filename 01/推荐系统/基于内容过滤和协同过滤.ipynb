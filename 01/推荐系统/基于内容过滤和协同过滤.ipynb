{
 "cells": [
  {
   "cell_type": "markdown",
   "metadata": {},
   "source": [
    "# 候选集生成"
   ]
  },
  {
   "cell_type": "markdown",
   "metadata": {},
   "source": [
    "## 1. 协同过滤"
   ]
  },
  {
   "cell_type": "markdown",
   "metadata": {},
   "source": [
    "### 1.1 基于项目的协同过滤"
   ]
  },
  {
   "cell_type": "code",
   "execution_count": 1,
   "metadata": {},
   "outputs": [],
   "source": [
    "import numpy as np\n",
    "import pandas as pd\n",
    "from sklearn.metrics.pairwise import cosine_similarity\n"
   ]
  },
  {
   "cell_type": "code",
   "execution_count": 2,
   "metadata": {},
   "outputs": [
    {
     "name": "stdout",
     "output_type": "stream",
     "text": [
      "用户-电影评分矩阵：\n",
      "    Movie A  Movie B  Movie C  Movie D\n",
      "U1        5        3        4      NaN\n",
      "U2        3        1        2      3.0\n",
      "U3        4        3        4      5.0\n",
      "U4        2        1        2      NaN\n",
      "U5        5        5        5      4.0\n"
     ]
    }
   ],
   "source": [
    "# 创建用户-项目评分矩阵\n",
    "ratings = {\n",
    "    'Movie A': [5, 3, 4, 2, 5],\n",
    "    'Movie B': [3, 1, 3, 1, 5],\n",
    "    'Movie C': [4, 2, 4, 2, 5],\n",
    "    'Movie D': [None, 3, 5, None, 4]\n",
    "}\n",
    "df = pd.DataFrame(ratings, index=['U1', 'U2', 'U3', 'U4', 'U5'])\n",
    "print(\"用户-电影评分矩阵：\")\n",
    "print(df)"
   ]
  },
  {
   "cell_type": "code",
   "execution_count": 3,
   "metadata": {},
   "outputs": [
    {
     "name": "stdout",
     "output_type": "stream",
     "text": [
      "\n",
      "电影之间的相似度:\n",
      "          Movie A   Movie B   Movie C   Movie D\n",
      "Movie A  1.000000  0.955994  0.990805  0.779646\n",
      "Movie B  0.955994  1.000000  0.979970  0.801110\n",
      "Movie C  0.990805  0.979970  1.000000  0.806893\n",
      "Movie D  0.779646  0.801110  0.806893  1.000000\n"
     ]
    }
   ],
   "source": [
    "# 计算电影之间的余弦相似度\n",
    "item_similarity = cosine_similarity(df.T.fillna(0))\n",
    "item_similarity_df = pd.DataFrame(item_similarity, index=df.columns, columns=df.columns)\n",
    "print(\"\\n电影之间的相似度:\")\n",
    "print(item_similarity_df)"
   ]
  },
  {
   "cell_type": "code",
   "execution_count": 7,
   "metadata": {},
   "outputs": [
    {
     "name": "stdout",
     "output_type": "stream",
     "text": [
      "Movie A    5.0\n",
      "Movie B    3.0\n",
      "Movie C    4.0\n",
      "Name: U1, dtype: float64\n",
      "Movie A    0.779646\n",
      "Movie B    0.801110\n",
      "Movie C    0.806893\n",
      "Name: Movie D, dtype: float64\n",
      "9.529135225238912\n",
      "2.3876498568306714\n",
      "\n",
      "预测 U1 对电影 D 的评分为: 3.99\n"
     ]
    }
   ],
   "source": [
    "# 预测 U1 对电影 D 的评分\n",
    "user_ratings = df.loc['U1'].dropna()  # 用户 U1 的评分记录\n",
    "similar_items = item_similarity_df['Movie D'].drop('Movie D')  # 与电影 D 的相似度\n",
    "weighted_sum = np.dot(user_ratings, similar_items)\n",
    "similarity_sum = np.sum(similar_items)\n",
    "\n",
    "print(user_ratings)\n",
    "print(similar_items)\n",
    "print(weighted_sum)\n",
    "print(similarity_sum)\n",
    " \n",
    "predicted_rating = weighted_sum / similarity_sum\n",
    "print(f\"\\n预测 U1 对电影 D 的评分为: {predicted_rating:.2f}\")"
   ]
  },
  {
   "cell_type": "code",
   "execution_count": null,
   "metadata": {},
   "outputs": [],
   "source": []
  }
 ],
 "metadata": {
  "kernelspec": {
   "display_name": "d2l",
   "language": "python",
   "name": "python3"
  },
  "language_info": {
   "codemirror_mode": {
    "name": "ipython",
    "version": 3
   },
   "file_extension": ".py",
   "mimetype": "text/x-python",
   "name": "python",
   "nbconvert_exporter": "python",
   "pygments_lexer": "ipython3",
   "version": "3.8.19"
  }
 },
 "nbformat": 4,
 "nbformat_minor": 2
}
