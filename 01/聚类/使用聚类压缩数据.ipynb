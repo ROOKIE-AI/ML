{
 "cells": [
  {
   "cell_type": "markdown",
   "metadata": {},
   "source": [
    "# 使用聚类压缩数据"
   ]
  },
  {
   "cell_type": "markdown",
   "metadata": {},
   "source": [
    "## 1. import library"
   ]
  },
  {
   "cell_type": "code",
   "execution_count": 1,
   "metadata": {},
   "outputs": [],
   "source": [
    "import numpy as np\n",
    "import pandas as pd\n",
    "from sklearn.cluster import KMeans\n",
    "from sklearn.preprocessing import StandardScaler"
   ]
  },
  {
   "cell_type": "markdown",
   "metadata": {},
   "source": [
    "## 2. make dataset"
   ]
  },
  {
   "cell_type": "code",
   "execution_count": 2,
   "metadata": {},
   "outputs": [],
   "source": [
    "data = {\n",
    "    'geolocation': [1, 2, 3, 4, 1, 2, 3, 4],  # 国家编码\n",
    "    'watch_time': [12, 16, 9, 22, 10, 15, 14, 20],  # 观看时间（小时）\n",
    "    'age': [25, 30, 22, 27, 26, 35, 21, 28],  # 年龄\n",
    "    'device': [0, 1, 2, 0, 1, 2, 0, 1],  # 设备（0: 手机, 1: 平板, 2: 电脑）\n",
    "}\n",
    "\n",
    "# 创建 DataFrame\n",
    "df = pd.DataFrame(data)"
   ]
  },
  {
   "cell_type": "markdown",
   "metadata": {},
   "source": [
    "## 3. EF"
   ]
  },
  {
   "cell_type": "code",
   "execution_count": 3,
   "metadata": {},
   "outputs": [],
   "source": [
    "scaler = StandardScaler()\n",
    "data_scaled = scaler.fit_transform(df)"
   ]
  },
  {
   "cell_type": "code",
   "execution_count": 4,
   "metadata": {},
   "outputs": [],
   "source": [
    "kmeans = KMeans(n_clusters=3, random_state=42)\n",
    "df['cluster_id'] = kmeans.fit_predict(data_scaled)"
   ]
  },
  {
   "cell_type": "code",
   "execution_count": 5,
   "metadata": {},
   "outputs": [
    {
     "name": "stdout",
     "output_type": "stream",
     "text": [
      "原始数据：\n",
      "   geolocation  watch_time  age  device\n",
      "0            1          12   25       0\n",
      "1            2          16   30       1\n",
      "2            3           9   22       2\n",
      "3            4          22   27       0\n",
      "4            1          10   26       1\n",
      "5            2          15   35       2\n",
      "6            3          14   21       0\n",
      "7            4          20   28       1\n",
      "\n",
      "对应的集群 ID:\n",
      "   cluster_id\n",
      "0           1\n",
      "1           0\n",
      "2           1\n",
      "3           2\n",
      "4           1\n",
      "5           0\n",
      "6           1\n",
      "7           2\n"
     ]
    }
   ],
   "source": [
    "print(\"原始数据：\")\n",
    "print(df[['geolocation', 'watch_time', 'age', 'device']])\n",
    "print(\"\\n对应的集群 ID:\")\n",
    "print(df[['cluster_id']])"
   ]
  }
 ],
 "metadata": {
  "kernelspec": {
   "display_name": "d2l",
   "language": "python",
   "name": "python3"
  },
  "language_info": {
   "codemirror_mode": {
    "name": "ipython",
    "version": 3
   },
   "file_extension": ".py",
   "mimetype": "text/x-python",
   "name": "python",
   "nbconvert_exporter": "python",
   "pygments_lexer": "ipython3",
   "version": "3.8.19"
  }
 },
 "nbformat": 4,
 "nbformat_minor": 2
}
