{
 "cells": [
  {
   "cell_type": "markdown",
   "metadata": {},
   "source": [
    "# 机器学习基础"
   ]
  },
  {
   "cell_type": "markdown",
   "metadata": {},
   "source": [
    "<b/>Rookie的机器学习自学笔记</b><br>\n",
    "\n",
    "整体大纲主要参照[吴恩达机器学习](https://b23.tv/tgHt97K)课程<br>\n",
    "补充性阅读教材：《机器学习》([西瓜书](./机器学习（西瓜书）.pdf))"
   ]
  },
  {
   "cell_type": "markdown",
   "metadata": {},
   "source": [
    "## Catalogue(目录)"
   ]
  },
  {
   "cell_type": "markdown",
   "metadata": {},
   "source": [
    "1. [机器学习应用](./01.MachineLearningApply/)\n",
    "   * 1.1 [机器学习的应用](./01.MachineLearningApply/Apply.md)\n",
    "2. [基本概念](./02.BasicConcepts/)\n",
    "   * 2.1 [什么是机器学习?](./02.BasicConcepts/whatIsML.ipynb) "
   ]
  },
  {
   "cell_type": "markdown",
   "metadata": {},
   "source": []
  },
  {
   "cell_type": "markdown",
   "metadata": {},
   "source": []
  }
 ],
 "metadata": {
  "language_info": {
   "name": "python"
  }
 },
 "nbformat": 4,
 "nbformat_minor": 2
}
