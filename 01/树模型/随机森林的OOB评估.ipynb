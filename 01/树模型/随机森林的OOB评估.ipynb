{
 "cells": [
  {
   "cell_type": "markdown",
   "metadata": {},
   "source": [
    "# 随机森林的OOB评估"
   ]
  },
  {
   "cell_type": "markdown",
   "metadata": {},
   "source": [
    "## sklearn 实现"
   ]
  },
  {
   "cell_type": "code",
   "execution_count": 1,
   "metadata": {},
   "outputs": [],
   "source": [
    "from sklearn.ensemble import RandomForestClassifier\n",
    "from sklearn.datasets import load_iris\n",
    "from sklearn.model_selection import train_test_split"
   ]
  },
  {
   "cell_type": "code",
   "execution_count": 5,
   "metadata": {},
   "outputs": [
    {
     "name": "stdout",
     "output_type": "stream",
     "text": [
      "OOB Score: 0.9167\n",
      "Test Score: 1.0000\n"
     ]
    }
   ],
   "source": [
    "# 加载数据集\n",
    "X, y = load_iris(return_X_y=True)\n",
    "# 划分数据集\n",
    "X_train, X_test, y_train, y_test = train_test_split(X, y, test_size=0.2, random_state=42)\n",
    "# 创建随机森林模型，启用 OOB 评估\n",
    "rf = RandomForestClassifier(n_estimators=100, oob_score=True, random_state=42)\n",
    "# 训练模型\n",
    "rf.fit(X_train, y_train)\n",
    "# 打印 OOB 评估得分\n",
    "print(f\"OOB Score: {rf.oob_score_:.4f}\")\n",
    "# 在测试集上评估模型\n",
    "test_score = rf.score(X_test, y_test)\n",
    "print(f\"Test Score: {test_score:.4f}\")"
   ]
  },
  {
   "cell_type": "markdown",
   "metadata": {},
   "source": [
    "## 自定义 OOB 评估的随机森林类\n"
   ]
  },
  {
   "cell_type": "code",
   "execution_count": 4,
   "metadata": {},
   "outputs": [
    {
     "name": "stdout",
     "output_type": "stream",
     "text": [
      "OOB Score: 0.9500\n"
     ]
    }
   ],
   "source": [
    "import numpy as np\n",
    "from sklearn.tree import DecisionTreeClassifier\n",
    "from sklearn.datasets import load_iris\n",
    "from sklearn.model_selection import train_test_split\n",
    "from collections import defaultdict\n",
    "\n",
    "class CustomRandomForest:\n",
    "    def __init__(self, n_estimators=100):\n",
    "        self.n_estimators = n_estimators\n",
    "        self.trees = []\n",
    "        self.oob_predictions = None\n",
    "        self.oob_count = None\n",
    "\n",
    "    def fit(self, X, y):\n",
    "        n_samples = X.shape[0]\n",
    "        self.oob_predictions = np.zeros(n_samples)\n",
    "        self.oob_count = np.zeros(n_samples)\n",
    "\n",
    "        for _ in range(self.n_estimators):\n",
    "            # Bootstrap sampling\n",
    "            indices = np.random.choice(n_samples, n_samples, replace=True)\n",
    "            oob_indices = np.setdiff1d(np.arange(n_samples), indices)\n",
    "\n",
    "            # Train a tree on the bootstrapped dataset\n",
    "            tree = DecisionTreeClassifier()\n",
    "            tree.fit(X[indices], y[indices])\n",
    "            self.trees.append(tree)\n",
    "\n",
    "            # OOB prediction\n",
    "            for idx in oob_indices:\n",
    "                self.oob_predictions[idx] += tree.predict(X[idx].reshape(1, -1))\n",
    "                self.oob_count[idx] += 1\n",
    "\n",
    "    def oob_score(self, y_true):\n",
    "        # Calculate the OOB score based on predictions\n",
    "        oob_pred = np.where(self.oob_count > 0, self.oob_predictions / self.oob_count, 0)\n",
    "        oob_pred = np.round(oob_pred).astype(int)  # Convert to integer class labels\n",
    "        return np.mean(oob_pred == y_true)\n",
    "\n",
    "# Example of using the custom random forest\n",
    "iris = load_iris()\n",
    "X, y = iris.data, iris.target\n",
    "X_train, X_test, y_train, y_test = train_test_split(X, y, test_size=0.2, random_state=42)\n",
    "\n",
    "# Initialize and train the custom random forest\n",
    "custom_rf = CustomRandomForest(n_estimators=100)\n",
    "custom_rf.fit(X_train, y_train)\n",
    "\n",
    "# Calculate OOB score\n",
    "oob_accuracy = custom_rf.oob_score(y_train)\n",
    "print(f\"OOB Score: {oob_accuracy:.4f}\")"
   ]
  }
 ],
 "metadata": {
  "kernelspec": {
   "display_name": "d2l",
   "language": "python",
   "name": "python3"
  },
  "language_info": {
   "codemirror_mode": {
    "name": "ipython",
    "version": 3
   },
   "file_extension": ".py",
   "mimetype": "text/x-python",
   "name": "python",
   "nbconvert_exporter": "python",
   "pygments_lexer": "ipython3",
   "version": "3.8.19"
  }
 },
 "nbformat": 4,
 "nbformat_minor": 2
}
