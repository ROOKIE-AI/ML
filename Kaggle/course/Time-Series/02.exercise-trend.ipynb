{
 "cells": [
  {
   "cell_type": "markdown",
   "id": "61f2b6af",
   "metadata": {},
   "source": [
    "**This notebook is an exercise in the [Time Series](https://www.kaggle.com/learn/time-series) course.  You can reference the tutorial at [this link](https://www.kaggle.com/ryanholbrook/trend).**\n",
    "\n",
    "---\n"
   ]
  },
  {
   "cell_type": "markdown",
   "id": "89050f5e",
   "metadata": {},
   "source": [
    "\n",
    "# Introduction #"
   ]
  },
  {
   "cell_type": "markdown",
   "id": "94ef0d6d",
   "metadata": {},
   "source": [
    "Run this cell to set everything up!"
   ]
  },
  {
   "cell_type": "code",
   "execution_count": 1,
   "id": "e7a516e7",
   "metadata": {
    "lines_to_next_cell": 0
   },
   "outputs": [
    {
     "ename": "ModuleNotFoundError",
     "evalue": "No module named 'learntools'",
     "output_type": "error",
     "traceback": [
      "\u001b[0;31m---------------------------------------------------------------------------\u001b[0m",
      "\u001b[0;31mModuleNotFoundError\u001b[0m                       Traceback (most recent call last)",
      "Cell \u001b[0;32mIn[1], line 2\u001b[0m\n\u001b[1;32m      1\u001b[0m \u001b[38;5;66;03m# Setup feedback system\u001b[39;00m\n\u001b[0;32m----> 2\u001b[0m \u001b[38;5;28;01mfrom\u001b[39;00m \u001b[38;5;21;01mlearntools\u001b[39;00m\u001b[38;5;21;01m.\u001b[39;00m\u001b[38;5;21;01mcore\u001b[39;00m \u001b[38;5;28;01mimport\u001b[39;00m binder\n\u001b[1;32m      3\u001b[0m binder\u001b[38;5;241m.\u001b[39mbind(\u001b[38;5;28mglobals\u001b[39m())\n\u001b[1;32m      4\u001b[0m \u001b[38;5;28;01mfrom\u001b[39;00m \u001b[38;5;21;01mlearntools\u001b[39;00m\u001b[38;5;21;01m.\u001b[39;00m\u001b[38;5;21;01mtime_series\u001b[39;00m\u001b[38;5;21;01m.\u001b[39;00m\u001b[38;5;21;01mex2\u001b[39;00m \u001b[38;5;28;01mimport\u001b[39;00m \u001b[38;5;241m*\u001b[39m\n",
      "\u001b[0;31mModuleNotFoundError\u001b[0m: No module named 'learntools'"
     ]
    }
   ],
   "source": [
    "# Setup feedback system\n",
    "from learntools.core import binder\n",
    "binder.bind(globals())\n",
    "from learntools.time_series.ex2 import *\n",
    "\n",
    "# Setup notebook\n",
    "from pathlib import Path\n",
    "from learntools.time_series.style import *  # plot style settings\n",
    "\n",
    "import pandas as pd\n",
    "import matplotlib.pyplot as plt\n",
    "import numpy as np\n",
    "import seaborn as sns\n",
    "from sklearn.linear_model import LinearRegression\n",
    "\n",
    "data_dir = Path('../input/ts-course-data/')\n",
    "comp_dir = Path('../input/store-sales-time-series-forecasting')\n",
    "\n",
    "retail_sales = pd.read_csv(\n",
    "    data_dir / \"us-retail-sales.csv\",\n",
    "    parse_dates=['Month'],\n",
    "    index_col='Month',\n",
    ").to_period('D')\n",
    "food_sales = retail_sales.loc[:, 'FoodAndBeverage']\n",
    "auto_sales = retail_sales.loc[:, 'Automobiles']\n",
    "\n",
    "dtype = {\n",
    "    'store_nbr': 'category',\n",
    "    'family': 'category',\n",
    "    'sales': 'float32',\n",
    "    'onpromotion': 'uint64',\n",
    "}\n",
    "store_sales = pd.read_csv(\n",
    "    comp_dir / 'train.csv',\n",
    "    dtype=dtype,\n",
    "    parse_dates=['date'],\n",
    "    infer_datetime_format=True,\n",
    ")\n",
    "store_sales = store_sales.set_index('date').to_period('D')\n",
    "store_sales = store_sales.set_index(['store_nbr', 'family'], append=True)\n",
    "average_sales = store_sales.groupby('date').mean()['sales']"
   ]
  },
  {
   "cell_type": "markdown",
   "id": "fce46ccf",
   "metadata": {},
   "source": [
    "-------------------------------------------------------------------------------"
   ]
  },
  {
   "cell_type": "markdown",
   "id": "7c03c011",
   "metadata": {},
   "source": [
    "# 1) Determine trend with a moving average plot\n",
    "\n",
    "The *US Retail Sales* dataset contains monthly sales data for a number of retail industries in the United States. Run the next cell to see a plot of the *Food and Beverage* series."
   ]
  },
  {
   "cell_type": "code",
   "execution_count": null,
   "id": "c6d8c19b",
   "metadata": {},
   "outputs": [],
   "source": [
    "ax = food_sales.plot(**plot_params)\n",
    "ax.set(title=\"US Food and Beverage Sales\", ylabel=\"Millions of Dollars\");"
   ]
  },
  {
   "cell_type": "markdown",
   "id": "4176efc2",
   "metadata": {},
   "source": [
    "Now make a moving average plot to estimate the trend for this series."
   ]
  },
  {
   "cell_type": "code",
   "execution_count": null,
   "id": "0e10365b",
   "metadata": {
    "lines_to_next_cell": 0
   },
   "outputs": [],
   "source": [
    "# YOUR CODE HERE: Add methods to `food_sales` to compute a moving\n",
    "# average with appropriate parameters for trend estimation.\n",
    "trend = food_sales\n",
    "\n",
    "# Check your answer\n",
    "q_1.check()\n",
    "\n",
    "# Make a plot\n",
    "ax = food_sales.plot(**plot_params, alpha=0.5)\n",
    "ax = trend.plot(ax=ax, linewidth=3)"
   ]
  },
  {
   "cell_type": "code",
   "execution_count": null,
   "id": "593de802",
   "metadata": {
    "lines_to_next_cell": 0
   },
   "outputs": [],
   "source": [
    "# Uncomment to get a hint or solution\n",
    "#q_1.hint()\n",
    "#q_1.solution()"
   ]
  },
  {
   "cell_type": "markdown",
   "id": "c4865c48",
   "metadata": {},
   "source": [
    "-------------------------------------------------------------------------------\n",
    "\n",
    "# 2) Identify trend\n",
    "\n",
    "What order polynomial trend might be appropriate for the *Food and Beverage Sales* series? Can you think of a non-polynomial curve that might work even better?\n",
    "\n",
    "Once you've thought about it, run this cell for some discussion."
   ]
  },
  {
   "cell_type": "code",
   "execution_count": 2,
   "id": "9c0ce91e",
   "metadata": {},
   "outputs": [
    {
     "ename": "NameError",
     "evalue": "name 'q_2' is not defined",
     "output_type": "error",
     "traceback": [
      "\u001b[0;31m---------------------------------------------------------------------------\u001b[0m",
      "\u001b[0;31mNameError\u001b[0m                                 Traceback (most recent call last)",
      "Cell \u001b[0;32mIn[2], line 2\u001b[0m\n\u001b[1;32m      1\u001b[0m \u001b[38;5;66;03m# View the solution (Run this cell to receive credit!)\u001b[39;00m\n\u001b[0;32m----> 2\u001b[0m \u001b[43mq_2\u001b[49m\u001b[38;5;241m.\u001b[39mcheck()\n",
      "\u001b[0;31mNameError\u001b[0m: name 'q_2' is not defined"
     ]
    }
   ],
   "source": [
    "# View the solution (Run this cell to receive credit!)\n",
    "q_2.check()"
   ]
  },
  {
   "cell_type": "markdown",
   "id": "3b4be1fa",
   "metadata": {},
   "source": [
    "-------------------------------------------------------------------------------\n",
    "\n",
    "We'll continue using the time series of average sales in this lesson. Run this cell to see a moving average plot of `average_sales` estimating the trend."
   ]
  },
  {
   "cell_type": "code",
   "execution_count": null,
   "id": "6eb13c81",
   "metadata": {},
   "outputs": [],
   "source": [
    "trend = average_sales.rolling(\n",
    "    window=365,\n",
    "    center=True,\n",
    "    min_periods=183,\n",
    ").mean()\n",
    "\n",
    "ax = average_sales.plot(**plot_params, alpha=0.5)\n",
    "ax = trend.plot(ax=ax, linewidth=3)"
   ]
  },
  {
   "cell_type": "markdown",
   "id": "b5206e2c",
   "metadata": {},
   "source": [
    "# 3) Create a Trend Feature\n",
    "\n",
    "Use `DeterministicProcess` to create a feature set for a cubic trend model. Also create features for a 90-day forecast."
   ]
  },
  {
   "cell_type": "code",
   "execution_count": null,
   "id": "18b55dab",
   "metadata": {},
   "outputs": [],
   "source": [
    "from statsmodels.tsa.deterministic import DeterministicProcess\n",
    "\n",
    "y = average_sales.copy()  # the target\n",
    "\n",
    "# YOUR CODE HERE: Instantiate `DeterministicProcess` with arguments\n",
    "# appropriate for a cubic trend model\n",
    "dp = ____\n",
    "\n",
    "# YOUR CODE HERE: Create the feature set for the dates given in y.index\n",
    "X = ____\n",
    "\n",
    "# YOUR CODE HERE: Create features for a 90-day forecast.\n",
    "X_fore = ____\n",
    "\n",
    "\n",
    "# Check your answer\n",
    "q_3.check()"
   ]
  },
  {
   "cell_type": "code",
   "execution_count": null,
   "id": "12bfae39",
   "metadata": {},
   "outputs": [],
   "source": [
    "# Lines below will give you a hint or solution code\n",
    "#q_3.hint()\n",
    "#q_3.solution()"
   ]
  },
  {
   "cell_type": "markdown",
   "id": "430627af",
   "metadata": {},
   "source": [
    "You can see the a plot of the result by running the next cell."
   ]
  },
  {
   "cell_type": "code",
   "execution_count": null,
   "id": "0a9aa41e",
   "metadata": {},
   "outputs": [],
   "source": [
    "model = LinearRegression()\n",
    "model.fit(X, y)\n",
    "\n",
    "y_pred = pd.Series(model.predict(X), index=X.index)\n",
    "y_fore = pd.Series(model.predict(X_fore), index=X_fore.index)\n",
    "\n",
    "ax = y.plot(**plot_params, alpha=0.5, title=\"Average Sales\", ylabel=\"items sold\")\n",
    "ax = y_pred.plot(ax=ax, linewidth=3, label=\"Trend\", color='C0')\n",
    "ax = y_fore.plot(ax=ax, linewidth=3, label=\"Trend Forecast\", color='C3')\n",
    "ax.legend();"
   ]
  },
  {
   "cell_type": "markdown",
   "id": "9070d09b",
   "metadata": {},
   "source": [
    "--------------------------------------------------------------------------------\n",
    "\n",
    "One way to fit more complicated trends is to increase the order of the polynomial you use. To get a better fit to the somewhat complicated trend in *Store Sales*, we could try using an order 11 polynomial."
   ]
  },
  {
   "cell_type": "code",
   "execution_count": null,
   "id": "05bf6314",
   "metadata": {},
   "outputs": [],
   "source": [
    "from statsmodels.tsa.deterministic import DeterministicProcess\n",
    "\n",
    "dp = DeterministicProcess(index=y.index, order=11)\n",
    "X = dp.in_sample()\n",
    "\n",
    "model = LinearRegression()\n",
    "model.fit(X, y)\n",
    "\n",
    "y_pred = pd.Series(model.predict(X), index=X.index)\n",
    "\n",
    "ax = y.plot(**plot_params, alpha=0.5, title=\"Average Sales\", ylabel=\"items sold\")\n",
    "ax = y_pred.plot(ax=ax, linewidth=3, label=\"Trend\", color='C0')\n",
    "ax.legend();"
   ]
  },
  {
   "cell_type": "markdown",
   "id": "24778e1b",
   "metadata": {},
   "source": [
    "# 4) Understand risks of forecasting with high-order polynomials\n",
    "\n",
    "High-order polynomials are generally not well-suited to forecasting, however. Can you guess why?"
   ]
  },
  {
   "cell_type": "code",
   "execution_count": null,
   "id": "175fd659",
   "metadata": {},
   "outputs": [],
   "source": [
    "# View the solution (Run this cell to receive credit!)\n",
    "q_4.check()"
   ]
  },
  {
   "cell_type": "code",
   "execution_count": null,
   "id": "3e71b2ed",
   "metadata": {},
   "outputs": [],
   "source": [
    "# Uncomment the next line for a hint\n",
    "#q_4.hint()"
   ]
  },
  {
   "cell_type": "markdown",
   "id": "1ddb59ce",
   "metadata": {},
   "source": [
    "Run this cell to see the same 90-day forecast using an order 11 polynomial. Does it confirm your intuition?"
   ]
  },
  {
   "cell_type": "code",
   "execution_count": null,
   "id": "7680b0eb",
   "metadata": {},
   "outputs": [],
   "source": [
    "X_fore = dp.out_of_sample(steps=90)\n",
    "y_fore = pd.Series(model.predict(X_fore), index=X_fore.index)\n",
    "\n",
    "ax = y.plot(**plot_params, alpha=0.5, title=\"Average Sales\", ylabel=\"items sold\")\n",
    "ax = y_pred.plot(ax=ax, linewidth=3, label=\"Trend\", color='C0')\n",
    "ax = y_fore.plot(ax=ax, linewidth=3, label=\"Trend Forecast\", color='C3')\n",
    "ax.legend();"
   ]
  },
  {
   "cell_type": "markdown",
   "id": "a54a7a07",
   "metadata": {},
   "source": [
    "# Keep Going #\n",
    "\n",
    "[**Model seasonality**](https://www.kaggle.com/ryanholbrook/seasonality), another common type of time dependence, with indicators and Fourier features."
   ]
  },
  {
   "cell_type": "markdown",
   "id": "3f51f80d",
   "metadata": {},
   "source": [
    "---\n",
    "\n",
    "\n",
    "\n",
    "\n",
    "*Have questions or comments? Visit the [course discussion forum](https://www.kaggle.com/learn/time-series/discussion) to chat with other learners.*"
   ]
  }
 ],
 "metadata": {
  "jupytext": {
   "formats": "md,ipynb"
  },
  "kaggle": {
   "accelerator": "none",
   "dataSources": [
    {
     "databundleVersionId": 2887556,
     "sourceId": 29781,
     "sourceType": "competition"
    },
    {
     "datasetId": 1169793,
     "sourceId": 2484624,
     "sourceType": "datasetVersion"
    }
   ],
   "isGpuEnabled": false,
   "isInternetEnabled": false,
   "language": "python",
   "sourceType": "notebook"
  },
  "kernelspec": {
   "display_name": "Python 3 (ipykernel)",
   "language": "python",
   "name": "python3"
  },
  "language_info": {
   "codemirror_mode": {
    "name": "ipython",
    "version": 3
   },
   "file_extension": ".py",
   "mimetype": "text/x-python",
   "name": "python",
   "nbconvert_exporter": "python",
   "pygments_lexer": "ipython3",
   "version": "3.8.19"
  }
 },
 "nbformat": 4,
 "nbformat_minor": 5
}
