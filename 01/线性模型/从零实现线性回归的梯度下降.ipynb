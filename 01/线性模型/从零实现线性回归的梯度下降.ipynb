{
 "cells": [
  {
   "cell_type": "code",
   "execution_count": 34,
   "metadata": {},
   "outputs": [],
   "source": [
    "import numpy as np\n",
    "import pandas as pd\n",
    "import matplotlib.pyplot as plt"
   ]
  },
  {
   "cell_type": "markdown",
   "metadata": {},
   "source": [
    "## 生成数据"
   ]
  },
  {
   "cell_type": "code",
   "execution_count": 35,
   "metadata": {},
   "outputs": [],
   "source": [
    "x = np.random.randn(2000).reshape(-1, 2) \n",
    "tar_w = [-2.1, 2.3, 42.0]"
   ]
  },
  {
   "cell_type": "code",
   "execution_count": 36,
   "metadata": {},
   "outputs": [
    {
     "data": {
      "text/plain": [
       "(1000, 3)"
      ]
     },
     "execution_count": 36,
     "metadata": {},
     "output_type": "execute_result"
    }
   ],
   "source": [
    "x = np.hstack([x, np.ones(shape=(x.shape[0], 1))])\n",
    "x.shape"
   ]
  },
  {
   "cell_type": "code",
   "execution_count": 37,
   "metadata": {},
   "outputs": [],
   "source": [
    "y = x @ tar_w + np.random.normal(0, 1, size=x.shape[0])"
   ]
  },
  {
   "cell_type": "markdown",
   "metadata": {},
   "source": [
    "## 最小二乘法"
   ]
  },
  {
   "cell_type": "code",
   "execution_count": 38,
   "metadata": {},
   "outputs": [
    {
     "data": {
      "text/plain": [
       "array([-2.09791276,  2.24557164, 42.03124469])"
      ]
     },
     "execution_count": 38,
     "metadata": {},
     "output_type": "execute_result"
    }
   ],
   "source": [
    "theta = np.linalg.inv(x.T @ x) @ x.T @ y\n",
    "theta"
   ]
  },
  {
   "cell_type": "markdown",
   "metadata": {},
   "source": [
    "## 初始化参数"
   ]
  },
  {
   "cell_type": "code",
   "execution_count": 39,
   "metadata": {},
   "outputs": [
    {
     "data": {
      "text/plain": [
       "array([-1.3815351 ,  1.12247604, -0.12654543])"
      ]
     },
     "execution_count": 39,
     "metadata": {},
     "output_type": "execute_result"
    }
   ],
   "source": [
    "w = np.random.randn(3)\n",
    "w"
   ]
  },
  {
   "cell_type": "markdown",
   "metadata": {},
   "source": [
    "## 设定学习率"
   ]
  },
  {
   "cell_type": "code",
   "execution_count": 40,
   "metadata": {},
   "outputs": [],
   "source": [
    "alpha = 0.1"
   ]
  },
  {
   "cell_type": "markdown",
   "metadata": {},
   "source": [
    "## 梯度下降"
   ]
  },
  {
   "cell_type": "code",
   "execution_count": 41,
   "metadata": {},
   "outputs": [
    {
     "data": {
      "text/plain": [
       "array([ -3.01554885,  -1.16366499, -42.09287052])"
      ]
     },
     "execution_count": 41,
     "metadata": {},
     "output_type": "execute_result"
    }
   ],
   "source": [
    "y_hat = x @ w\n",
    "J = 1/2 * ((y_hat - y) ** 2).mean()\n",
    "Jw = ((y_hat - y).reshape(-1, 1) * x ).mean(axis=0)\n",
    "Jw"
   ]
  },
  {
   "cell_type": "code",
   "execution_count": 42,
   "metadata": {},
   "outputs": [],
   "source": [
    "epochs = 50"
   ]
  },
  {
   "cell_type": "code",
   "execution_count": 43,
   "metadata": {},
   "outputs": [],
   "source": [
    "loss_lst = []\n",
    "for epoch in range(epochs):\n",
    "    y_hat = x @ w\n",
    "    J = 1/2 * ((y_hat - y) ** 2).mean()\n",
    "    loss_lst.append(J)\n",
    "    Jw = ((y_hat - y).reshape(-1, 1) * x ).mean(axis=0)\n",
    "    w = w - alpha * Jw"
   ]
  },
  {
   "cell_type": "code",
   "execution_count": 44,
   "metadata": {},
   "outputs": [
    {
     "data": {
      "image/png": "[encoded data removed]",
      "text/plain": [
       "<Figure size 640x480 with 1 Axes>"
      ]
     },
     "metadata": {},
     "output_type": "display_data"
    }
   ],
   "source": [
    "plt.plot(range(epochs), loss_lst)\n",
    "plt.xlabel('epoch')\n",
    "plt.ylabel('J(w, b)')\n",
    "plt.show()"
   ]
  },
  {
   "cell_type": "code",
   "execution_count": 45,
   "metadata": {},
   "outputs": [
    {
     "data": {
      "text/plain": [
       "(array([-1.9713159 ,  2.24577472, 41.78412606]), [-2.1, 2.3, 42.0])"
      ]
     },
     "execution_count": 45,
     "metadata": {},
     "output_type": "execute_result"
    }
   ],
   "source": [
    "w, tar_w"
   ]
  },
  {
   "cell_type": "code",
   "execution_count": 46,
   "metadata": {},
   "outputs": [
    {
     "data": {
      "text/plain": [
       "True"
      ]
     },
     "execution_count": 46,
     "metadata": {},
     "output_type": "execute_result"
    }
   ],
   "source": [
    "np.all(np.abs(w - tar_w) < 0.3)"
   ]
  },
  {
   "cell_type": "markdown",
   "metadata": {},
   "source": [
    "## 拟牛顿法"
   ]
  },
  {
   "cell_type": "code",
   "execution_count": 47,
   "metadata": {},
   "outputs": [],
   "source": [
    "epochs = 100  # 迭代次数\n",
    "alpha = 0.1   # 学习率（不再需要，牛顿法使用Hessian）\n",
    "loss_lst = []\n",
    "n_samples, n_features = x.shape\n",
    "\n",
    "# 初始化权重\n",
    "w = np.random.randn(n_features)"
   ]
  },
  {
   "cell_type": "code",
   "execution_count": 48,
   "metadata": {},
   "outputs": [
    {
     "name": "stdout",
     "output_type": "stream",
     "text": [
      "早停在第 4 次迭代，最好的损失为 0.5216062657761035\n"
     ]
    }
   ],
   "source": [
    "# 用于早停的变量\n",
    "best_loss = float('inf')  # 初始化最好的损失为无穷大\n",
    "patience_counter = 0  # 初始化耐心计数器\n",
    "\n",
    "for epoch in range(epochs):\n",
    "    y_hat = x @ w\n",
    "    J = 1 / 2 * np.mean((y_hat - y) ** 2)  # 计算损失\n",
    "    loss_lst.append(J)\n",
    "    \n",
    "    # 计算梯度\n",
    "    gradient = (x.T @ (y_hat - y)) / n_samples\n",
    "    \n",
    "    # 计算Hessian矩阵\n",
    "    hessian = (x.T @ x) / n_samples\n",
    "    \n",
    "    # 更新权重\n",
    "    # 使用numpy的线性方程求解功能\n",
    "    w -= np.linalg.inv(hessian) @ gradient\n",
    "    \n",
    "    # 早停检查\n",
    "    if J < best_loss:\n",
    "        best_loss = J  # 更新最好的损失\n",
    "        patience_counter = 0  # 重置耐心计数器\n",
    "    else:\n",
    "        patience_counter += 1  # 增加耐心计数器\n",
    "        \n",
    "    # 如果耐心计数器达到设定的耐心值，则停止训练\n",
    "    if patience_counter >= 2:\n",
    "        print(f\"早停在第 {epoch} 次迭代，最好的损失为 {best_loss}\")\n",
    "        break\n"
   ]
  },
  {
   "cell_type": "code",
   "execution_count": 49,
   "metadata": {},
   "outputs": [
    {
     "data": {
      "image/png": "[encoded data removed]",
      "text/plain": [
       "<Figure size 640x480 with 1 Axes>"
      ]
     },
     "metadata": {},
     "output_type": "display_data"
    }
   ],
   "source": [
    "plt.plot(range(len(loss_lst)), loss_lst)\n",
    "plt.xlabel('epoch')\n",
    "plt.ylabel('J(w, b)')\n",
    "plt.show()"
   ]
  }
 ],
 "metadata": {
  "kernelspec": {
   "display_name": "ai",
   "language": "python",
   "name": "python3"
  },
  "language_info": {
   "codemirror_mode": {
    "name": "ipython",
    "version": 3
   },
   "file_extension": ".py",
   "mimetype": "text/x-python",
   "name": "python",
   "nbconvert_exporter": "python",
   "pygments_lexer": "ipython3",
   "version": "3.11.9"
  }
 },
 "nbformat": 4,
 "nbformat_minor": 2
}
