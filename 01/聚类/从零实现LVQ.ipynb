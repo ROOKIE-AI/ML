{
 "cells": [
  {
   "cell_type": "markdown",
   "metadata": {},
   "source": [
    "# 从零实现LVQ "
   ]
  },
  {
   "cell_type": "code",
   "execution_count": 1,
   "metadata": {},
   "outputs": [],
   "source": [
    "import numpy as np"
   ]
  },
  {
   "cell_type": "code",
   "execution_count": null,
   "metadata": {},
   "outputs": [],
   "source": [
    "class LVQ:\n",
    "    def __init__(self, n_prototypes_per_class=1, learning_rate=0.01, max_iter=100):\n",
    "        self.n_prototypes_per_class = n_prototypes_per_class  # 每个类别的原型向量数量\n",
    "        self.learning_rate = learning_rate  # 学习率\n",
    "        self.max_iter = max_iter  # 最大迭代次数\n",
    "        self.prototypes = None  # 存储原型向量\n",
    "        self.prototype_labels = None  # 存储原型向量对应的类别\n",
    "    \n",
    "    def fit(self, X, y):\n",
    "        n_classes = len(np.unique(y))  # 类别数量\n",
    "        n_features = X.shape[1]  # 特征数量\n",
    "        \n",
    "        # 初始化原型向量，每个类别选择 n_prototypes_per_class 个样本作为原型\n",
    "        self.prototypes = np.zeros((n_classes * self.n_prototypes_per_class, n_features))\n",
    "        self.prototype_labels = np.zeros(n_classes * self.n_prototypes_per_class)\n",
    "        \n",
    "        # 随机选择训练集中的样本作为原型向量\n",
    "        for i, class_label in enumerate(np.unique(y)):\n",
    "            class_samples = X[y == class_label]\n",
    "            indices = np.random.choice(range(class_samples.shape[0]), self.n_prototypes_per_class, replace=False)\n",
    "            self.prototypes[i*self.n_prototypes_per_class:(i+1)*self.n_prototypes_per_class] = class_samples[indices]\n",
    "            self.prototype_labels[i*self.n_prototypes_per_class:(i+1)*self.n_prototypes_per_class] = class_label\n",
    "\n",
    "        # 开始训练\n",
    "        for epoch in range(self.max_iter):\n",
    "            for i in range(X.shape[0]):\n",
    "                # 计算样本与所有原型向量的距离\n",
    "                distances = np.linalg.norm(self.prototypes - X[i], axis=1)\n",
    "                closest_prototype_idx = np.argmin(distances)  # 找到距离最近的原型向量\n",
    "                \n",
    "                # 更新原型向量\n",
    "                if self.prototype_labels[closest_prototype_idx] == y[i]:  # 类别相同，靠近样本\n",
    "                    self.prototypes[closest_prototype_idx] += self.learning_rate * (X[i] - self.prototypes[closest_prototype_idx])\n",
    "                else:  # 类别不同，远离样本\n",
    "                    self.prototypes[closest_prototype_idx] -= self.learning_rate * (X[i] - self.prototypes[closest_prototype_idx])\n",
    "    \n",
    "    def predict(self, X):\n",
    "        y_pred = np.zeros(X.shape[0])\n",
    "        for i in range(X.shape[0]):\n",
    "            # 计算样本与所有原型向量的距离\n",
    "            distances = np.linalg.norm(self.prototypes - X[i], axis=1)\n",
    "            closest_prototype_idx = np.argmin(distances)  # 找到距离最近的原型向量\n",
    "            y_pred[i] = self.prototype_labels[closest_prototype_idx]  # 预测类别\n",
    "        return y_pred"
   ]
  }
 ],
 "metadata": {
  "kernelspec": {
   "display_name": "ai",
   "language": "python",
   "name": "python3"
  },
  "language_info": {
   "codemirror_mode": {
    "name": "ipython",
    "version": 3
   },
   "file_extension": ".py",
   "mimetype": "text/x-python",
   "name": "python",
   "nbconvert_exporter": "python",
   "pygments_lexer": "ipython3",
   "version": "3.11.9"
  }
 },
 "nbformat": 4,
 "nbformat_minor": 2
}
