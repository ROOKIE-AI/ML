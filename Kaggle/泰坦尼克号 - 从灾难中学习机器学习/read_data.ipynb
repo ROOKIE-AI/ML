{
 "cells": [
  {
   "cell_type": "markdown",
   "metadata": {},
   "source": [
    "# 获取数据"
   ]
  },
  {
   "cell_type": "code",
   "execution_count": 1,
   "metadata": {},
   "outputs": [
    {
     "name": "stdout",
     "output_type": "stream",
     "text": [
      "Warning: Your Kaggle API key is readable by other users on this system! To fix this, you can run 'chmod 600 /root/.kaggle/kaggle.json'\n",
      "Downloading titanic.zip to /root/Desktop/AI/ML/Kaggle/泰坦尼克号 - 从灾难中学习机器学习\n",
      "  0%|                                               | 0.00/34.1k [00:00<?, ?B/s]\n",
      "100%|███████████████████████████████████████| 34.1k/34.1k [00:00<00:00, 521kB/s]\n"
     ]
    }
   ],
   "source": [
    "!kaggle competitions download -c titanic"
   ]
  },
  {
   "cell_type": "code",
   "execution_count": 3,
   "metadata": {},
   "outputs": [],
   "source": [
    "import zipfile\n",
    "import os\n",
    "\n",
    "def unzip_file(zip_file_path, extract_to_path):\n",
    "    \"\"\"\n",
    "    解压 .zip 文件至指定目录。\n",
    "\n",
    "    参数:\n",
    "    - zip_file_path: .zip 文件的路径\n",
    "    - extract_to_path: 要解压到的目标文件夹路径\n",
    "    \"\"\"\n",
    "    # 检查目标路径是否存在，不存在则创建\n",
    "    if not os.path.exists(extract_to_path):\n",
    "        os.makedirs(extract_to_path)\n",
    "\n",
    "    # 打开并解压 zip 文件\n",
    "    with zipfile.ZipFile(zip_file_path, 'r') as zip_ref:\n",
    "        zip_ref.extractall(extract_to_path)\n",
    "\n",
    "    print(f'文件已解压至: {extract_to_path}')"
   ]
  },
  {
   "cell_type": "code",
   "execution_count": 5,
   "metadata": {},
   "outputs": [
    {
     "name": "stdout",
     "output_type": "stream",
     "text": [
      "文件已解压至: ./data\n"
     ]
    }
   ],
   "source": [
    "unzip_file('./titanic.zip', './data')\n",
    "!rm -rf *.zip"
   ]
  },
  {
   "cell_type": "code",
   "execution_count": null,
   "metadata": {},
   "outputs": [],
   "source": []
  }
 ],
 "metadata": {
  "kernelspec": {
   "display_name": "ai",
   "language": "python",
   "name": "python3"
  },
  "language_info": {
   "codemirror_mode": {
    "name": "ipython",
    "version": 3
   },
   "file_extension": ".py",
   "mimetype": "text/x-python",
   "name": "python",
   "nbconvert_exporter": "python",
   "pygments_lexer": "ipython3",
   "version": "3.8.19"
  }
 },
 "nbformat": 4,
 "nbformat_minor": 2
}
