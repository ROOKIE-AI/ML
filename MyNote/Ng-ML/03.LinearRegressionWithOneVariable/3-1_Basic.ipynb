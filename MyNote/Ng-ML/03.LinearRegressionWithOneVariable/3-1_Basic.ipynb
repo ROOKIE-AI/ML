{
 "cells": [
  {
   "cell_type": "markdown",
   "metadata": {},
   "source": [
    "# 线性模型-基本形式"
   ]
  },
  {
   "cell_type": "markdown",
   "metadata": {},
   "source": [
    "&emsp;&emsp;给定由n个属性描述的示例$\\mathbf{x} = (x_1;x_2;...;x_n)$, 其中$x_i$是$\\mathbf{x}$在第i个属性上的取值, 线性模型试图学得一个通过属性的线性组合进行预测的函数,即:<br>\n",
    "&emsp;&emsp;&emsp;&emsp;$f(x_1, x_2, ...x_n) =  w_1x_1 + w_2x_2 + \\ldots + w_nx_n + b$<br>\n",
    "&emsp;&emsp;写成向量形式:<br>\n",
    "&emsp;&emsp;&emsp;&emsp;$f(\\mathbf{x}) = \\mathbf{w}^T \\mathbf{x} + b$\n"
   ]
  },
  {
   "cell_type": "markdown",
   "metadata": {},
   "source": [
    "&emsp;&emsp;\n",
    "线性模型形式简单、易于建模，但却蕴涵着机器学习中一些重要的基本思想.许多功能更为强大的非线性模型（nonlinear model）可在线性模型的基础上通过引入<b>层级结构</b>或<b>高维映射</b>而得.此外，由于w直观表达了各属性在预测中的重要性，因此线性模型有很好的可解释性（comprehensibility）.例如若在西瓜问题中学得“f好瓜（x）=0.2·x色泽+0.5·x根蒂+0.3·x敲声+1”，则意味着可通过综合考虑色泽、根蒂和敲声来判断瓜好不好，其中根蒂最要紧，而敲声比色泽更重要.\n",
    "\n"
   ]
  },
  {
   "cell_type": "markdown",
   "metadata": {},
   "source": [
    "## 名词解释"
   ]
  },
  {
   "cell_type": "markdown",
   "metadata": {},
   "source": [
    "1. 层级结构\n",
    "> 层级结构是指在模型中引入多个层次或级别的结构，以更好地捕捉数据的复杂关系。在机器学习中，特别是在深度学习领域，层级结构通常指的是多层神经网络模型。"
   ]
  },
  {
   "cell_type": "markdown",
   "metadata": {},
   "source": [
    "2. 高维映射\n",
    "> 高维映射是指将输入数据映射到一个高维空间中，以便更好地进行特征提取和模式识别。这个概念通常在机器学习中用于构建非线性模型"
   ]
  },
  {
   "cell_type": "markdown",
   "metadata": {},
   "source": [
    "## 个人思考"
   ]
  },
  {
   "cell_type": "markdown",
   "metadata": {},
   "source": [
    "&emsp;&emsp;\n",
    "线性模型作为一种最基本的函数类型, 可以解决最简单的回归和分类性问题, 但是对于一些非线性的过程, 其很难准确拟合。但是, 由于其简单的特性, 它的参数还是具有一定的可解释性的, 其参数的权重可以表示该属性对结果的影响程度。\n",
    "<br>&emsp;&emsp; \n",
    "线性回归在很多场景下均有应用, 是数据处理分析的最常见手段, 其中在统计学中尤为常见。对于很多科学研究而言, 常用于实验计算一些物理公式的常数项, 比如 Millikan油滴实验测算电子电荷量等。大多数物理实验的常数计算往往都使用了线性回归, 这是一种非常常见的科学实验计算方法。"
   ]
  }
 ],
 "metadata": {
  "language_info": {
   "name": "python"
  }
 },
 "nbformat": 4,
 "nbformat_minor": 2
}
