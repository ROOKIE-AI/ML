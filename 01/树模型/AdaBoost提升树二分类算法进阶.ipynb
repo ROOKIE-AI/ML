{
 "cells": [
  {
   "cell_type": "code",
   "execution_count": 22,
   "metadata": {},
   "outputs": [],
   "source": [
    "from pprint import pprint\n",
    "\n",
    "import numpy as np\n",
    "import pandas as pd\n",
    "import matplotlib.pyplot as plt"
   ]
  },
  {
   "cell_type": "code",
   "execution_count": 23,
   "metadata": {},
   "outputs": [
    {
     "data": {
      "image/png": "[encoded data removed]",
      "text/plain": [
       "<Figure size 640x480 with 1 Axes>"
      ]
     },
     "metadata": {},
     "output_type": "display_data"
    }
   ],
   "source": [
    "x = np.linspace(-2, 2, 50)\n",
    "y = np.exp(x)\n",
    "plt.axhline(0, color='black', linewidth=0.5, ls='--')\n",
    "plt.axvline(0, color='black', linewidth=0.5, ls='--')\n",
    "# 移动坐标轴刻度和标签\n",
    "ax = plt.gca()  # 获取当前坐标轴\n",
    "ax.spines['left'].set_position('zero')  # y 轴\n",
    "ax.spines['bottom'].set_position('zero')  # x 轴\n",
    "ax.spines['right'].set_color('none')  # 隐藏右边框\n",
    "ax.spines['top'].set_color('none')  # 隐藏上边框\n",
    "# 设置刻度位置\n",
    "ax.xaxis.set_ticks_position('bottom')\n",
    "ax.yaxis.set_ticks_position('left')\n",
    "plt.plot(x, y, c='r')\n",
    "plt.show()"
   ]
  },
  {
   "cell_type": "markdown",
   "metadata": {},
   "source": [
    "### 手撕AdaBoost"
   ]
  },
  {
   "cell_type": "markdown",
   "metadata": {},
   "source": [
    "#### 1.1 创建数据"
   ]
  },
  {
   "cell_type": "code",
   "execution_count": 24,
   "metadata": {},
   "outputs": [],
   "source": [
    "import numpy as np\n",
    "from pkg_resources import invalid_marker\n",
    "from sklearn.ensemble import AdaBoostClassifier\n",
    "\n",
    "import graphviz\n",
    "from sklearn import tree"
   ]
  },
  {
   "cell_type": "code",
   "execution_count": 25,
   "metadata": {},
   "outputs": [
    {
     "data": {
      "text/plain": [
       "(array([[0],\n",
       "        [1],\n",
       "        [2],\n",
       "        [3],\n",
       "        [4],\n",
       "        [5],\n",
       "        [6],\n",
       "        [7],\n",
       "        [8],\n",
       "        [9]]),\n",
       " array([ 1,  1,  1, -1, -1, -1,  1,  1,  1, -1]))"
      ]
     },
     "execution_count": 25,
     "metadata": {},
     "output_type": "execute_result"
    }
   ],
   "source": [
    "X = np.arange(10).reshape(-1, 1)    # 二维\n",
    "y = np.array([1, 1, 1, -1, -1, -1, 1, 1, 1, -1])\n",
    "X, y"
   ]
  },
  {
   "cell_type": "markdown",
   "metadata": {},
   "source": [
    "#### 1.2 使用Adaboost建模"
   ]
  },
  {
   "cell_type": "code",
   "execution_count": 26,
   "metadata": {},
   "outputs": [
    {
     "data": {
      "text/plain": [
       "(array([ 1,  1,  1, -1, -1, -1,  1,  1,  1, -1]),\n",
       " array([ 1,  1,  1, -1, -1, -1,  1,  1,  1, -1]))"
      ]
     },
     "execution_count": 26,
     "metadata": {},
     "output_type": "execute_result"
    }
   ],
   "source": [
    "model = AdaBoostClassifier(n_estimators=3, algorithm='SAMME')\n",
    "\n",
    "model.fit(X, y)\n",
    "\n",
    "y_ = model.predict(X)\n",
    "y, y_"
   ]
  },
  {
   "cell_type": "markdown",
   "metadata": {},
   "source": [
    "#### 1.3 树可视化"
   ]
  },
  {
   "cell_type": "code",
   "execution_count": 27,
   "metadata": {},
   "outputs": [
    {
     "data": {
      "image/svg+xml": [
       "<?xml version=\"1.0\" encoding=\"UTF-8\" standalone=\"no\"?>\n",
       "<!DOCTYPE svg PUBLIC \"-//W3C//DTD SVG 1.1//EN\"\n",
       " \"http://www.w3.org/Graphics/SVG/1.1/DTD/svg11.dtd\">\n",
       "<!-- Generated by graphviz version 2.43.0 (0)\n",
       " -->\n",
       "<!-- Title: Tree Pages: 1 -->\n",
       "<svg width=\"306pt\" height=\"165pt\"\n",
       " viewBox=\"0.00 0.00 306.00 165.00\" xmlns=\"http://www.w3.org/2000/svg\" xmlns:xlink=\"http://www.w3.org/1999/xlink\">\n",
       "<g id=\"graph0\" class=\"graph\" transform=\"scale(1 1) rotate(0) translate(4 161)\">\n",
       "<title>Tree</title>\n",
       "<polygon fill=\"white\" stroke=\"transparent\" points=\"-4,4 -4,-161 302,-161 302,4 -4,4\"/>\n",
       "<!-- 0 -->\n",
       "<g id=\"node1\" class=\"node\">\n",
       "<title>0</title>\n",
       "<path fill=\"#bddef6\" stroke=\"black\" d=\"M207,-157C207,-157 91,-157 91,-157 85,-157 79,-151 79,-145 79,-145 79,-101 79,-101 79,-95 85,-89 91,-89 91,-89 207,-89 207,-89 213,-89 219,-95 219,-101 219,-101 219,-145 219,-145 219,-151 213,-157 207,-157\"/>\n",
       "<text text-anchor=\"middle\" x=\"149\" y=\"-141.8\" font-family=\"Helvetica,sans-Serif\" font-size=\"14.00\">x[0] &lt;= 2.5</text>\n",
       "<text text-anchor=\"middle\" x=\"149\" y=\"-126.8\" font-family=\"Helvetica,sans-Serif\" font-size=\"14.00\">gini = 0.48</text>\n",
       "<text text-anchor=\"middle\" x=\"149\" y=\"-111.8\" font-family=\"Helvetica,sans-Serif\" font-size=\"14.00\">samples = 10</text>\n",
       "<text text-anchor=\"middle\" x=\"149\" y=\"-96.8\" font-family=\"Helvetica,sans-Serif\" font-size=\"14.00\">value = [0.4, 0.6]</text>\n",
       "</g>\n",
       "<!-- 1 -->\n",
       "<g id=\"node2\" class=\"node\">\n",
       "<title>1</title>\n",
       "<path fill=\"#399de5\" stroke=\"black\" d=\"M128,-53C128,-53 12,-53 12,-53 6,-53 0,-47 0,-41 0,-41 0,-12 0,-12 0,-6 6,0 12,0 12,0 128,0 128,0 134,0 140,-6 140,-12 140,-12 140,-41 140,-41 140,-47 134,-53 128,-53\"/>\n",
       "<text text-anchor=\"middle\" x=\"70\" y=\"-37.8\" font-family=\"Helvetica,sans-Serif\" font-size=\"14.00\">gini = 0.0</text>\n",
       "<text text-anchor=\"middle\" x=\"70\" y=\"-22.8\" font-family=\"Helvetica,sans-Serif\" font-size=\"14.00\">samples = 3</text>\n",
       "<text text-anchor=\"middle\" x=\"70\" y=\"-7.8\" font-family=\"Helvetica,sans-Serif\" font-size=\"14.00\">value = [0.0, 0.3]</text>\n",
       "</g>\n",
       "<!-- 0&#45;&gt;1 -->\n",
       "<g id=\"edge1\" class=\"edge\">\n",
       "<title>0&#45;&gt;1</title>\n",
       "<path fill=\"none\" stroke=\"black\" d=\"M121.37,-88.95C113.8,-79.89 105.59,-70.07 97.99,-60.99\"/>\n",
       "<polygon fill=\"black\" stroke=\"black\" points=\"100.61,-58.66 91.52,-53.24 95.24,-63.15 100.61,-58.66\"/>\n",
       "<text text-anchor=\"middle\" x=\"89.29\" y=\"-74.44\" font-family=\"Helvetica,sans-Serif\" font-size=\"14.00\">True</text>\n",
       "</g>\n",
       "<!-- 2 -->\n",
       "<g id=\"node3\" class=\"node\">\n",
       "<title>2</title>\n",
       "<path fill=\"#f8e0ce\" stroke=\"black\" d=\"M286,-53C286,-53 170,-53 170,-53 164,-53 158,-47 158,-41 158,-41 158,-12 158,-12 158,-6 164,0 170,0 170,0 286,0 286,0 292,0 298,-6 298,-12 298,-12 298,-41 298,-41 298,-47 292,-53 286,-53\"/>\n",
       "<text text-anchor=\"middle\" x=\"228\" y=\"-37.8\" font-family=\"Helvetica,sans-Serif\" font-size=\"14.00\">gini = 0.49</text>\n",
       "<text text-anchor=\"middle\" x=\"228\" y=\"-22.8\" font-family=\"Helvetica,sans-Serif\" font-size=\"14.00\">samples = 7</text>\n",
       "<text text-anchor=\"middle\" x=\"228\" y=\"-7.8\" font-family=\"Helvetica,sans-Serif\" font-size=\"14.00\">value = [0.4, 0.3]</text>\n",
       "</g>\n",
       "<!-- 0&#45;&gt;2 -->\n",
       "<g id=\"edge2\" class=\"edge\">\n",
       "<title>0&#45;&gt;2</title>\n",
       "<path fill=\"none\" stroke=\"black\" d=\"M176.63,-88.95C184.2,-79.89 192.41,-70.07 200.01,-60.99\"/>\n",
       "<polygon fill=\"black\" stroke=\"black\" points=\"202.76,-63.15 206.48,-53.24 197.39,-58.66 202.76,-63.15\"/>\n",
       "<text text-anchor=\"middle\" x=\"208.71\" y=\"-74.44\" font-family=\"Helvetica,sans-Serif\" font-size=\"14.00\">False</text>\n",
       "</g>\n",
       "</g>\n",
       "</svg>\n"
      ],
      "text/plain": [
       "<graphviz.sources.Source at 0x7f651a0192d0>"
      ]
     },
     "metadata": {},
     "output_type": "display_data"
    },
    {
     "data": {
      "image/svg+xml": [
       "<?xml version=\"1.0\" encoding=\"UTF-8\" standalone=\"no\"?>\n",
       "<!DOCTYPE svg PUBLIC \"-//W3C//DTD SVG 1.1//EN\"\n",
       " \"http://www.w3.org/Graphics/SVG/1.1/DTD/svg11.dtd\">\n",
       "<!-- Generated by graphviz version 2.43.0 (0)\n",
       " -->\n",
       "<!-- Title: Tree Pages: 1 -->\n",
       "<svg width=\"360pt\" height=\"165pt\"\n",
       " viewBox=\"0.00 0.00 360.00 165.00\" xmlns=\"http://www.w3.org/2000/svg\" xmlns:xlink=\"http://www.w3.org/1999/xlink\">\n",
       "<g id=\"graph0\" class=\"graph\" transform=\"scale(1 1) rotate(0) translate(4 161)\">\n",
       "<title>Tree</title>\n",
       "<polygon fill=\"white\" stroke=\"transparent\" points=\"-4,4 -4,-161 356,-161 356,4 -4,4\"/>\n",
       "<!-- 0 -->\n",
       "<g id=\"node1\" class=\"node\">\n",
       "<title>0</title>\n",
       "<path fill=\"#88c4ef\" stroke=\"black\" d=\"M256,-157C256,-157 104,-157 104,-157 98,-157 92,-151 92,-145 92,-145 92,-101 92,-101 92,-95 98,-89 104,-89 104,-89 256,-89 256,-89 262,-89 268,-95 268,-101 268,-101 268,-145 268,-145 268,-151 262,-157 256,-157\"/>\n",
       "<text text-anchor=\"middle\" x=\"180\" y=\"-141.8\" font-family=\"Helvetica,sans-Serif\" font-size=\"14.00\">x[0] &lt;= 8.5</text>\n",
       "<text text-anchor=\"middle\" x=\"180\" y=\"-126.8\" font-family=\"Helvetica,sans-Serif\" font-size=\"14.00\">gini = 0.408</text>\n",
       "<text text-anchor=\"middle\" x=\"180\" y=\"-111.8\" font-family=\"Helvetica,sans-Serif\" font-size=\"14.00\">samples = 10</text>\n",
       "<text text-anchor=\"middle\" x=\"180\" y=\"-96.8\" font-family=\"Helvetica,sans-Serif\" font-size=\"14.00\">value = [0.286, 0.714]</text>\n",
       "</g>\n",
       "<!-- 1 -->\n",
       "<g id=\"node2\" class=\"node\">\n",
       "<title>1</title>\n",
       "<path fill=\"#74baed\" stroke=\"black\" d=\"M164,-53C164,-53 12,-53 12,-53 6,-53 0,-47 0,-41 0,-41 0,-12 0,-12 0,-6 6,0 12,0 12,0 164,0 164,0 170,0 176,-6 176,-12 176,-12 176,-41 176,-41 176,-47 170,-53 164,-53\"/>\n",
       "<text text-anchor=\"middle\" x=\"88\" y=\"-37.8\" font-family=\"Helvetica,sans-Serif\" font-size=\"14.00\">gini = 0.355</text>\n",
       "<text text-anchor=\"middle\" x=\"88\" y=\"-22.8\" font-family=\"Helvetica,sans-Serif\" font-size=\"14.00\">samples = 9</text>\n",
       "<text text-anchor=\"middle\" x=\"88\" y=\"-7.8\" font-family=\"Helvetica,sans-Serif\" font-size=\"14.00\">value = [0.214, 0.714]</text>\n",
       "</g>\n",
       "<!-- 0&#45;&gt;1 -->\n",
       "<g id=\"edge1\" class=\"edge\">\n",
       "<title>0&#45;&gt;1</title>\n",
       "<path fill=\"none\" stroke=\"black\" d=\"M147.82,-88.95C138.83,-79.71 129.06,-69.67 120.07,-60.44\"/>\n",
       "<polygon fill=\"black\" stroke=\"black\" points=\"122.54,-57.96 113.06,-53.24 117.52,-62.84 122.54,-57.96\"/>\n",
       "<text text-anchor=\"middle\" x=\"112.72\" y=\"-74.53\" font-family=\"Helvetica,sans-Serif\" font-size=\"14.00\">True</text>\n",
       "</g>\n",
       "<!-- 2 -->\n",
       "<g id=\"node3\" class=\"node\">\n",
       "<title>2</title>\n",
       "<path fill=\"#e58139\" stroke=\"black\" d=\"M340,-53C340,-53 206,-53 206,-53 200,-53 194,-47 194,-41 194,-41 194,-12 194,-12 194,-6 200,0 206,0 206,0 340,0 340,0 346,0 352,-6 352,-12 352,-12 352,-41 352,-41 352,-47 346,-53 340,-53\"/>\n",
       "<text text-anchor=\"middle\" x=\"273\" y=\"-37.8\" font-family=\"Helvetica,sans-Serif\" font-size=\"14.00\">gini = &#45;0.0</text>\n",
       "<text text-anchor=\"middle\" x=\"273\" y=\"-22.8\" font-family=\"Helvetica,sans-Serif\" font-size=\"14.00\">samples = 1</text>\n",
       "<text text-anchor=\"middle\" x=\"273\" y=\"-7.8\" font-family=\"Helvetica,sans-Serif\" font-size=\"14.00\">value = [0.071, 0.0]</text>\n",
       "</g>\n",
       "<!-- 0&#45;&gt;2 -->\n",
       "<g id=\"edge2\" class=\"edge\">\n",
       "<title>0&#45;&gt;2</title>\n",
       "<path fill=\"none\" stroke=\"black\" d=\"M212.53,-88.95C221.62,-79.71 231.5,-69.67 240.58,-60.44\"/>\n",
       "<polygon fill=\"black\" stroke=\"black\" points=\"243.15,-62.82 247.67,-53.24 238.16,-57.91 243.15,-62.82\"/>\n",
       "<text text-anchor=\"middle\" x=\"247.87\" y=\"-74.54\" font-family=\"Helvetica,sans-Serif\" font-size=\"14.00\">False</text>\n",
       "</g>\n",
       "</g>\n",
       "</svg>\n"
      ],
      "text/plain": [
       "<graphviz.sources.Source at 0x7f651a018590>"
      ]
     },
     "metadata": {},
     "output_type": "display_data"
    },
    {
     "data": {
      "image/svg+xml": [
       "<?xml version=\"1.0\" encoding=\"UTF-8\" standalone=\"no\"?>\n",
       "<!DOCTYPE svg PUBLIC \"-//W3C//DTD SVG 1.1//EN\"\n",
       " \"http://www.w3.org/Graphics/SVG/1.1/DTD/svg11.dtd\">\n",
       "<!-- Generated by graphviz version 2.43.0 (0)\n",
       " -->\n",
       "<!-- Title: Tree Pages: 1 -->\n",
       "<svg width=\"360pt\" height=\"165pt\"\n",
       " viewBox=\"0.00 0.00 360.00 165.00\" xmlns=\"http://www.w3.org/2000/svg\" xmlns:xlink=\"http://www.w3.org/1999/xlink\">\n",
       "<g id=\"graph0\" class=\"graph\" transform=\"scale(1 1) rotate(0) translate(4 161)\">\n",
       "<title>Tree</title>\n",
       "<polygon fill=\"white\" stroke=\"transparent\" points=\"-4,4 -4,-161 356,-161 356,4 -4,4\"/>\n",
       "<!-- 0 -->\n",
       "<g id=\"node1\" class=\"node\">\n",
       "<title>0</title>\n",
       "<path fill=\"#fbeade\" stroke=\"black\" d=\"M247,-157C247,-157 95,-157 95,-157 89,-157 83,-151 83,-145 83,-145 83,-101 83,-101 83,-95 89,-89 95,-89 95,-89 247,-89 247,-89 253,-89 259,-95 259,-101 259,-101 259,-145 259,-145 259,-151 253,-157 247,-157\"/>\n",
       "<text text-anchor=\"middle\" x=\"171\" y=\"-141.8\" font-family=\"Helvetica,sans-Serif\" font-size=\"14.00\">x[0] &lt;= 5.5</text>\n",
       "<text text-anchor=\"middle\" x=\"171\" y=\"-126.8\" font-family=\"Helvetica,sans-Serif\" font-size=\"14.00\">gini = 0.496</text>\n",
       "<text text-anchor=\"middle\" x=\"171\" y=\"-111.8\" font-family=\"Helvetica,sans-Serif\" font-size=\"14.00\">samples = 10</text>\n",
       "<text text-anchor=\"middle\" x=\"171\" y=\"-96.8\" font-family=\"Helvetica,sans-Serif\" font-size=\"14.00\">value = [0.545, 0.455]</text>\n",
       "</g>\n",
       "<!-- 1 -->\n",
       "<g id=\"node2\" class=\"node\">\n",
       "<title>1</title>\n",
       "<path fill=\"#eca36f\" stroke=\"black\" d=\"M146,-53C146,-53 12,-53 12,-53 6,-53 0,-47 0,-41 0,-41 0,-12 0,-12 0,-6 6,0 12,0 12,0 146,0 146,0 152,0 158,-6 158,-12 158,-12 158,-41 158,-41 158,-47 152,-53 146,-53\"/>\n",
       "<text text-anchor=\"middle\" x=\"79\" y=\"-37.8\" font-family=\"Helvetica,sans-Serif\" font-size=\"14.00\">gini = 0.337</text>\n",
       "<text text-anchor=\"middle\" x=\"79\" y=\"-22.8\" font-family=\"Helvetica,sans-Serif\" font-size=\"14.00\">samples = 6</text>\n",
       "<text text-anchor=\"middle\" x=\"79\" y=\"-7.8\" font-family=\"Helvetica,sans-Serif\" font-size=\"14.00\">value = [0.5, 0.136]</text>\n",
       "</g>\n",
       "<!-- 0&#45;&gt;1 -->\n",
       "<g id=\"edge1\" class=\"edge\">\n",
       "<title>0&#45;&gt;1</title>\n",
       "<path fill=\"none\" stroke=\"black\" d=\"M138.82,-88.95C129.83,-79.71 120.06,-69.67 111.07,-60.44\"/>\n",
       "<polygon fill=\"black\" stroke=\"black\" points=\"113.54,-57.96 104.06,-53.24 108.52,-62.84 113.54,-57.96\"/>\n",
       "<text text-anchor=\"middle\" x=\"103.72\" y=\"-74.53\" font-family=\"Helvetica,sans-Serif\" font-size=\"14.00\">True</text>\n",
       "</g>\n",
       "<!-- 2 -->\n",
       "<g id=\"node3\" class=\"node\">\n",
       "<title>2</title>\n",
       "<path fill=\"#55abe9\" stroke=\"black\" d=\"M340,-53C340,-53 188,-53 188,-53 182,-53 176,-47 176,-41 176,-41 176,-12 176,-12 176,-6 182,0 188,0 188,0 340,0 340,0 346,0 352,-6 352,-12 352,-12 352,-41 352,-41 352,-47 346,-53 340,-53\"/>\n",
       "<text text-anchor=\"middle\" x=\"264\" y=\"-37.8\" font-family=\"Helvetica,sans-Serif\" font-size=\"14.00\">gini = 0.219</text>\n",
       "<text text-anchor=\"middle\" x=\"264\" y=\"-22.8\" font-family=\"Helvetica,sans-Serif\" font-size=\"14.00\">samples = 4</text>\n",
       "<text text-anchor=\"middle\" x=\"264\" y=\"-7.8\" font-family=\"Helvetica,sans-Serif\" font-size=\"14.00\">value = [0.045, 0.318]</text>\n",
       "</g>\n",
       "<!-- 0&#45;&gt;2 -->\n",
       "<g id=\"edge2\" class=\"edge\">\n",
       "<title>0&#45;&gt;2</title>\n",
       "<path fill=\"none\" stroke=\"black\" d=\"M203.53,-88.95C212.62,-79.71 222.5,-69.67 231.58,-60.44\"/>\n",
       "<polygon fill=\"black\" stroke=\"black\" points=\"234.15,-62.82 238.67,-53.24 229.16,-57.91 234.15,-62.82\"/>\n",
       "<text text-anchor=\"middle\" x=\"238.87\" y=\"-74.54\" font-family=\"Helvetica,sans-Serif\" font-size=\"14.00\">False</text>\n",
       "</g>\n",
       "</g>\n",
       "</svg>\n"
      ],
      "text/plain": [
       "<graphviz.sources.Source at 0x7f651a03d950>"
      ]
     },
     "metadata": {},
     "output_type": "display_data"
    }
   ],
   "source": [
    "for i in range(3):\n",
    "    dot_data = tree.export_graphviz(model[i], filled=True, rounded=True)\n",
    "    display(graphviz.Source(dot_data))"
   ]
  },
  {
   "cell_type": "markdown",
   "metadata": {},
   "source": [
    "#### 1.4 代码构建第一棵树"
   ]
  },
  {
   "cell_type": "code",
   "execution_count": 28,
   "metadata": {},
   "outputs": [],
   "source": [
    "w1 = np.full(shape=10, fill_value=0.1)"
   ]
  },
  {
   "cell_type": "markdown",
   "metadata": {},
   "source": [
    "##### 1.4.1 gini 系数计算"
   ]
  },
  {
   "cell_type": "markdown",
   "metadata": {},
   "source": [
    "$$gini = \\sum\\limits_{i=1}^Np_i(1-p_i) $$"
   ]
  },
  {
   "cell_type": "code",
   "execution_count": 29,
   "metadata": {},
   "outputs": [],
   "source": [
    "import collections\n",
    "\n",
    "ps = [v/len(y) for v in collections.Counter(y).values()]\n",
    "gini = lambda x : 1 - sum([(v / len(x))** 2 for v in collections.Counter(x).values()])"
   ]
  },
  {
   "cell_type": "code",
   "execution_count": 30,
   "metadata": {},
   "outputs": [
    {
     "data": {
      "text/plain": [
       "0.48"
      ]
     },
     "execution_count": 30,
     "metadata": {},
     "output_type": "execute_result"
    }
   ],
   "source": [
    "gini(y)"
   ]
  },
  {
   "cell_type": "markdown",
   "metadata": {},
   "source": [
    "##### 1.4.2 拆分条件计算"
   ]
  },
  {
   "cell_type": "code",
   "execution_count": 31,
   "metadata": {},
   "outputs": [],
   "source": [
    "gini_result = []"
   ]
  },
  {
   "cell_type": "code",
   "execution_count": 32,
   "metadata": {},
   "outputs": [],
   "source": [
    "for i in range(len(X) - 1):\n",
    "    split = i + 0.5\n",
    "    cond = (X < split).ravel()\n",
    "    p = sum(cond)/len(cond)\n",
    "    gini_result.append([f\"X <= {split}\",  gini(y[cond]) * p + gini(y[~cond]) * (1 - p), gini(y[cond]),  gini(y[~cond]), split])\n",
    "gini_df = pd.DataFrame(data=gini_result, columns=['分裂条件', \"gini\", 'left-gini', 'right-gini', 'split'])"
   ]
  },
  {
   "cell_type": "code",
   "execution_count": 33,
   "metadata": {},
   "outputs": [
    {
     "data": {
      "text/html": [
       "<div>\n",
       "<style scoped>\n",
       "    .dataframe tbody tr th:only-of-type {\n",
       "        vertical-align: middle;\n",
       "    }\n",
       "\n",
       "    .dataframe tbody tr th {\n",
       "        vertical-align: top;\n",
       "    }\n",
       "\n",
       "    .dataframe thead th {\n",
       "        text-align: right;\n",
       "    }\n",
       "</style>\n",
       "<table border=\"1\" class=\"dataframe\">\n",
       "  <thead>\n",
       "    <tr style=\"text-align: right;\">\n",
       "      <th></th>\n",
       "      <th>分裂条件</th>\n",
       "      <th>gini</th>\n",
       "      <th>left-gini</th>\n",
       "      <th>right-gini</th>\n",
       "      <th>split</th>\n",
       "    </tr>\n",
       "  </thead>\n",
       "  <tbody>\n",
       "    <tr>\n",
       "      <th>2</th>\n",
       "      <td>X &lt;= 2.5</td>\n",
       "      <td>0.342857</td>\n",
       "      <td>0.000000</td>\n",
       "      <td>0.489796</td>\n",
       "      <td>2.5</td>\n",
       "    </tr>\n",
       "    <tr>\n",
       "      <th>8</th>\n",
       "      <td>X &lt;= 8.5</td>\n",
       "      <td>0.400000</td>\n",
       "      <td>0.444444</td>\n",
       "      <td>0.000000</td>\n",
       "      <td>8.5</td>\n",
       "    </tr>\n",
       "    <tr>\n",
       "      <th>1</th>\n",
       "      <td>X &lt;= 1.5</td>\n",
       "      <td>0.400000</td>\n",
       "      <td>0.000000</td>\n",
       "      <td>0.500000</td>\n",
       "      <td>1.5</td>\n",
       "    </tr>\n",
       "    <tr>\n",
       "      <th>0</th>\n",
       "      <td>X &lt;= 0.5</td>\n",
       "      <td>0.444444</td>\n",
       "      <td>0.000000</td>\n",
       "      <td>0.493827</td>\n",
       "      <td>0.5</td>\n",
       "    </tr>\n",
       "    <tr>\n",
       "      <th>3</th>\n",
       "      <td>X &lt;= 3.5</td>\n",
       "      <td>0.450000</td>\n",
       "      <td>0.375000</td>\n",
       "      <td>0.500000</td>\n",
       "      <td>3.5</td>\n",
       "    </tr>\n",
       "    <tr>\n",
       "      <th>5</th>\n",
       "      <td>X &lt;= 5.5</td>\n",
       "      <td>0.450000</td>\n",
       "      <td>0.500000</td>\n",
       "      <td>0.375000</td>\n",
       "      <td>5.5</td>\n",
       "    </tr>\n",
       "    <tr>\n",
       "      <th>7</th>\n",
       "      <td>X &lt;= 7.5</td>\n",
       "      <td>0.475000</td>\n",
       "      <td>0.468750</td>\n",
       "      <td>0.500000</td>\n",
       "      <td>7.5</td>\n",
       "    </tr>\n",
       "    <tr>\n",
       "      <th>6</th>\n",
       "      <td>X &lt;= 6.5</td>\n",
       "      <td>0.476190</td>\n",
       "      <td>0.489796</td>\n",
       "      <td>0.444444</td>\n",
       "      <td>6.5</td>\n",
       "    </tr>\n",
       "    <tr>\n",
       "      <th>4</th>\n",
       "      <td>X &lt;= 4.5</td>\n",
       "      <td>0.480000</td>\n",
       "      <td>0.480000</td>\n",
       "      <td>0.480000</td>\n",
       "      <td>4.5</td>\n",
       "    </tr>\n",
       "  </tbody>\n",
       "</table>\n",
       "</div>"
      ],
      "text/plain": [
       "       分裂条件      gini  left-gini  right-gini  split\n",
       "2  X <= 2.5  0.342857   0.000000    0.489796    2.5\n",
       "8  X <= 8.5  0.400000   0.444444    0.000000    8.5\n",
       "1  X <= 1.5  0.400000   0.000000    0.500000    1.5\n",
       "0  X <= 0.5  0.444444   0.000000    0.493827    0.5\n",
       "3  X <= 3.5  0.450000   0.375000    0.500000    3.5\n",
       "5  X <= 5.5  0.450000   0.500000    0.375000    5.5\n",
       "7  X <= 7.5  0.475000   0.468750    0.500000    7.5\n",
       "6  X <= 6.5  0.476190   0.489796    0.444444    6.5\n",
       "4  X <= 4.5  0.480000   0.480000    0.480000    4.5"
      ]
     },
     "execution_count": 33,
     "metadata": {},
     "output_type": "execute_result"
    }
   ],
   "source": [
    "gini_df.sort_values(by='gini')"
   ]
  },
  {
   "cell_type": "markdown",
   "metadata": {},
   "source": [
    "##### 1.6.3 计算误差"
   ]
  },
  {
   "cell_type": "code",
   "execution_count": 34,
   "metadata": {},
   "outputs": [
    {
     "data": {
      "text/plain": [
       "0.3"
      ]
     },
     "execution_count": 34,
     "metadata": {},
     "output_type": "execute_result"
    }
   ],
   "source": [
    "y1_ = model[0].predict(X)\n",
    "\n",
    "err1 = ( y != y1_).mean()\n",
    "err1"
   ]
  },
  {
   "cell_type": "markdown",
   "metadata": {},
   "source": [
    "##### 1.6.4 计算第一个弱学习器权重"
   ]
  },
  {
   "cell_type": "code",
   "execution_count": 35,
   "metadata": {},
   "outputs": [
    {
     "data": {
      "text/plain": [
       "0.42364893019360184"
      ]
     },
     "execution_count": 35,
     "metadata": {},
     "output_type": "execute_result"
    }
   ],
   "source": [
    "alpha1 = 1 / 2 * np.log((1- err1) / err1)\n",
    "alpha1"
   ]
  },
  {
   "cell_type": "markdown",
   "metadata": {},
   "source": [
    "##### 1.6.5 更新样本权重"
   ]
  },
  {
   "cell_type": "code",
   "execution_count": 36,
   "metadata": {},
   "outputs": [
    {
     "data": {
      "text/plain": [
       "['0.07142857142857141:(1,1)',\n",
       " '0.07142857142857141:(1,1)',\n",
       " '0.07142857142857141:(1,1)',\n",
       " '0.07142857142857141:(-1,-1)',\n",
       " '0.07142857142857141:(-1,-1)',\n",
       " '0.07142857142857141:(-1,-1)',\n",
       " '0.16666666666666666:(1,-1)',\n",
       " '0.16666666666666666:(1,-1)',\n",
       " '0.16666666666666666:(1,-1)',\n",
       " '0.07142857142857141:(-1,-1)']"
      ]
     },
     "execution_count": 36,
     "metadata": {},
     "output_type": "execute_result"
    }
   ],
   "source": [
    "w2 = w1 * np.exp(-alpha1 * y * y1_)\n",
    "w2 = w2 / w2.sum()\n",
    "[f'{w}:({x1},{x2})' for w, x1, x2 in zip(w2, y, y1_)]"
   ]
  },
  {
   "cell_type": "markdown",
   "metadata": {},
   "source": [
    "#### 1.5 代码构建第二棵树"
   ]
  },
  {
   "cell_type": "code",
   "execution_count": 38,
   "metadata": {},
   "outputs": [
    {
     "data": {
      "text/plain": [
       "(0.28571428571428564, 0.7142857142857142)"
      ]
     },
     "execution_count": 38,
     "metadata": {},
     "output_type": "execute_result"
    }
   ],
   "source": [
    "w2[y == -1].sum(), w2[y == 1].sum()"
   ]
  },
  {
   "cell_type": "code",
   "execution_count": 49,
   "metadata": {},
   "outputs": [
    {
     "data": {
      "text/plain": [
       "0.40816326530612246"
      ]
     },
     "execution_count": 49,
     "metadata": {},
     "output_type": "execute_result"
    }
   ],
   "source": [
    "def calc_gini(X, y, w):\n",
    "    w = w / w.sum()\n",
    "    p = w[y == -1].sum()\n",
    "    gini = 1 -  p ** 2 - (1 - p) ** 2\n",
    "\n",
    "    return gini\n",
    "calc_gini(X, y, w2)"
   ]
  },
  {
   "cell_type": "code",
   "execution_count": 52,
   "metadata": {},
   "outputs": [],
   "source": [
    "def split_result(X, y, w):\n",
    "    gini_result = []\n",
    "    for i in range(len(X) - 1):\n",
    "        split = i + 0.5\n",
    "        cond = (X < split).ravel()\n",
    "        p = w2[cond].sum()\n",
    "        gini_result.append([\n",
    "            f\"X <= {split}\",\n",
    "            calc_gini(X[cond], y[cond], w[cond]) * p + calc_gini(X[~cond], y[~cond],w[~cond]) * (1 - p),\n",
    "            calc_gini(X[cond], y[cond], w[cond]),\n",
    "            calc_gini(X[~cond], y[~cond],w[~cond]),\n",
    "            split,\n",
    "            y[cond].size,\n",
    "            y[~cond].size\n",
    "        ])\n",
    "    return pd.DataFrame(data=gini_result, columns=['分裂条件', \"gini\", 'left-gini', 'right-gini', 'split', 'left-samples', 'right-samples']).sort_values(by='gini')\n"
   ]
  },
  {
   "cell_type": "code",
   "execution_count": 53,
   "metadata": {},
   "outputs": [
    {
     "data": {
      "text/html": [
       "<div>\n",
       "<style scoped>\n",
       "    .dataframe tbody tr th:only-of-type {\n",
       "        vertical-align: middle;\n",
       "    }\n",
       "\n",
       "    .dataframe tbody tr th {\n",
       "        vertical-align: top;\n",
       "    }\n",
       "\n",
       "    .dataframe thead th {\n",
       "        text-align: right;\n",
       "    }\n",
       "</style>\n",
       "<table border=\"1\" class=\"dataframe\">\n",
       "  <thead>\n",
       "    <tr style=\"text-align: right;\">\n",
       "      <th></th>\n",
       "      <th>分裂条件</th>\n",
       "      <th>gini</th>\n",
       "      <th>left-gini</th>\n",
       "      <th>right-gini</th>\n",
       "      <th>split</th>\n",
       "      <th>left-samples</th>\n",
       "      <th>right-samples</th>\n",
       "    </tr>\n",
       "  </thead>\n",
       "  <tbody>\n",
       "    <tr>\n",
       "      <th>8</th>\n",
       "      <td>X &lt;= 8.5</td>\n",
       "      <td>0.329670</td>\n",
       "      <td>0.355030</td>\n",
       "      <td>0.000000</td>\n",
       "      <td>8.5</td>\n",
       "      <td>9</td>\n",
       "      <td>1</td>\n",
       "    </tr>\n",
       "    <tr>\n",
       "      <th>5</th>\n",
       "      <td>X &lt;= 5.5</td>\n",
       "      <td>0.339286</td>\n",
       "      <td>0.500000</td>\n",
       "      <td>0.218750</td>\n",
       "      <td>5.5</td>\n",
       "      <td>6</td>\n",
       "      <td>4</td>\n",
       "    </tr>\n",
       "    <tr>\n",
       "      <th>2</th>\n",
       "      <td>X &lt;= 2.5</td>\n",
       "      <td>0.363636</td>\n",
       "      <td>0.000000</td>\n",
       "      <td>0.462810</td>\n",
       "      <td>2.5</td>\n",
       "      <td>3</td>\n",
       "      <td>7</td>\n",
       "    </tr>\n",
       "    <tr>\n",
       "      <th>1</th>\n",
       "      <td>X &lt;= 1.5</td>\n",
       "      <td>0.380952</td>\n",
       "      <td>0.000000</td>\n",
       "      <td>0.444444</td>\n",
       "      <td>1.5</td>\n",
       "      <td>2</td>\n",
       "      <td>8</td>\n",
       "    </tr>\n",
       "    <tr>\n",
       "      <th>6</th>\n",
       "      <td>X &lt;= 6.5</td>\n",
       "      <td>0.391933</td>\n",
       "      <td>0.460800</td>\n",
       "      <td>0.290657</td>\n",
       "      <td>6.5</td>\n",
       "      <td>7</td>\n",
       "      <td>3</td>\n",
       "    </tr>\n",
       "    <tr>\n",
       "      <th>4</th>\n",
       "      <td>X &lt;= 4.5</td>\n",
       "      <td>0.393651</td>\n",
       "      <td>0.480000</td>\n",
       "      <td>0.345679</td>\n",
       "      <td>4.5</td>\n",
       "      <td>5</td>\n",
       "      <td>5</td>\n",
       "    </tr>\n",
       "    <tr>\n",
       "      <th>0</th>\n",
       "      <td>X &lt;= 0.5</td>\n",
       "      <td>0.395604</td>\n",
       "      <td>0.000000</td>\n",
       "      <td>0.426036</td>\n",
       "      <td>0.5</td>\n",
       "      <td>1</td>\n",
       "      <td>9</td>\n",
       "    </tr>\n",
       "    <tr>\n",
       "      <th>3</th>\n",
       "      <td>X &lt;= 3.5</td>\n",
       "      <td>0.407143</td>\n",
       "      <td>0.375000</td>\n",
       "      <td>0.420000</td>\n",
       "      <td>3.5</td>\n",
       "      <td>4</td>\n",
       "      <td>6</td>\n",
       "    </tr>\n",
       "    <tr>\n",
       "      <th>7</th>\n",
       "      <td>X &lt;= 7.5</td>\n",
       "      <td>0.408036</td>\n",
       "      <td>0.404297</td>\n",
       "      <td>0.420000</td>\n",
       "      <td>7.5</td>\n",
       "      <td>8</td>\n",
       "      <td>2</td>\n",
       "    </tr>\n",
       "  </tbody>\n",
       "</table>\n",
       "</div>"
      ],
      "text/plain": [
       "       分裂条件      gini  left-gini  right-gini  split  left-samples  \\\n",
       "8  X <= 8.5  0.329670   0.355030    0.000000    8.5             9   \n",
       "5  X <= 5.5  0.339286   0.500000    0.218750    5.5             6   \n",
       "2  X <= 2.5  0.363636   0.000000    0.462810    2.5             3   \n",
       "1  X <= 1.5  0.380952   0.000000    0.444444    1.5             2   \n",
       "6  X <= 6.5  0.391933   0.460800    0.290657    6.5             7   \n",
       "4  X <= 4.5  0.393651   0.480000    0.345679    4.5             5   \n",
       "0  X <= 0.5  0.395604   0.000000    0.426036    0.5             1   \n",
       "3  X <= 3.5  0.407143   0.375000    0.420000    3.5             4   \n",
       "7  X <= 7.5  0.408036   0.404297    0.420000    7.5             8   \n",
       "\n",
       "   right-samples  \n",
       "8              1  \n",
       "5              4  \n",
       "2              7  \n",
       "1              8  \n",
       "6              3  \n",
       "4              5  \n",
       "0              9  \n",
       "3              6  \n",
       "7              2  "
      ]
     },
     "execution_count": 53,
     "metadata": {},
     "output_type": "execute_result"
    }
   ],
   "source": [
    "split_result(X, y, w2)"
   ]
  },
  {
   "cell_type": "code",
   "execution_count": 57,
   "metadata": {},
   "outputs": [
    {
     "data": {
      "text/plain": [
       "(0.21428571428571425, 0.6496414920651306)"
      ]
     },
     "execution_count": 57,
     "metadata": {},
     "output_type": "execute_result"
    }
   ],
   "source": [
    "y2_ = model[1].predict(X)\n",
    "err2 = ((y != y2_) * w2).sum()\n",
    "alpha2 = 1 / 2 * np.log((1- err2) / err2)\n",
    "err2, alpha2"
   ]
  },
  {
   "cell_type": "code",
   "execution_count": 59,
   "metadata": {},
   "outputs": [
    {
     "data": {
      "text/plain": [
       "['0.04545454545454545:(1,1)',\n",
       " '0.04545454545454545:(1,1)',\n",
       " '0.04545454545454545:(1,1)',\n",
       " '0.16666666666666666:(-1,1)',\n",
       " '0.16666666666666666:(-1,1)',\n",
       " '0.16666666666666666:(-1,1)',\n",
       " '0.10606060606060606:(1,1)',\n",
       " '0.10606060606060606:(1,1)',\n",
       " '0.10606060606060606:(1,1)',\n",
       " '0.04545454545454545:(-1,-1)']"
      ]
     },
     "execution_count": 59,
     "metadata": {},
     "output_type": "execute_result"
    }
   ],
   "source": [
    "w3 = w2 * np.exp(-alpha2 * y * y2_)\n",
    "w3 = w3 / w3.sum()\n",
    "[f'{w}:({x1},{x2})' for w, x1, x2 in zip(w3, y, y2_)]"
   ]
  },
  {
   "cell_type": "markdown",
   "metadata": {},
   "source": [
    "#### 1.6 代码构建第三棵树"
   ]
  },
  {
   "cell_type": "code",
   "execution_count": 60,
   "metadata": {},
   "outputs": [
    {
     "data": {
      "text/plain": [
       "0.4958677685950414"
      ]
     },
     "execution_count": 60,
     "metadata": {},
     "output_type": "execute_result"
    }
   ],
   "source": [
    "calc_gini(X, y, w3)"
   ]
  },
  {
   "cell_type": "code",
   "execution_count": 62,
   "metadata": {},
   "outputs": [
    {
     "data": {
      "text/html": [
       "<div>\n",
       "<style scoped>\n",
       "    .dataframe tbody tr th:only-of-type {\n",
       "        vertical-align: middle;\n",
       "    }\n",
       "\n",
       "    .dataframe tbody tr th {\n",
       "        vertical-align: top;\n",
       "    }\n",
       "\n",
       "    .dataframe thead th {\n",
       "        text-align: right;\n",
       "    }\n",
       "</style>\n",
       "<table border=\"1\" class=\"dataframe\">\n",
       "  <thead>\n",
       "    <tr style=\"text-align: right;\">\n",
       "      <th></th>\n",
       "      <th>分裂条件</th>\n",
       "      <th>gini</th>\n",
       "      <th>left-gini</th>\n",
       "      <th>right-gini</th>\n",
       "      <th>split</th>\n",
       "      <th>left-samples</th>\n",
       "      <th>right-samples</th>\n",
       "    </tr>\n",
       "  </thead>\n",
       "  <tbody>\n",
       "    <tr>\n",
       "      <th>5</th>\n",
       "      <td>X &lt;= 5.5</td>\n",
       "      <td>0.269315</td>\n",
       "      <td>0.336735</td>\n",
       "      <td>0.218750</td>\n",
       "      <td>5.5</td>\n",
       "      <td>6</td>\n",
       "      <td>4</td>\n",
       "    </tr>\n",
       "    <tr>\n",
       "      <th>2</th>\n",
       "      <td>X &lt;= 2.5</td>\n",
       "      <td>0.365651</td>\n",
       "      <td>0.000000</td>\n",
       "      <td>0.465374</td>\n",
       "      <td>2.5</td>\n",
       "      <td>3</td>\n",
       "      <td>7</td>\n",
       "    </tr>\n",
       "    <tr>\n",
       "      <th>6</th>\n",
       "      <td>X &lt;= 6.5</td>\n",
       "      <td>0.379443</td>\n",
       "      <td>0.439817</td>\n",
       "      <td>0.290657</td>\n",
       "      <td>6.5</td>\n",
       "      <td>7</td>\n",
       "      <td>3</td>\n",
       "    </tr>\n",
       "    <tr>\n",
       "      <th>1</th>\n",
       "      <td>X &lt;= 1.5</td>\n",
       "      <td>0.411429</td>\n",
       "      <td>0.000000</td>\n",
       "      <td>0.480000</td>\n",
       "      <td>1.5</td>\n",
       "      <td>2</td>\n",
       "      <td>8</td>\n",
       "    </tr>\n",
       "    <tr>\n",
       "      <th>0</th>\n",
       "      <td>X &lt;= 0.5</td>\n",
       "      <td>0.454810</td>\n",
       "      <td>0.000000</td>\n",
       "      <td>0.489796</td>\n",
       "      <td>0.5</td>\n",
       "      <td>1</td>\n",
       "      <td>9</td>\n",
       "    </tr>\n",
       "    <tr>\n",
       "      <th>4</th>\n",
       "      <td>X &lt;= 4.5</td>\n",
       "      <td>0.455740</td>\n",
       "      <td>0.412071</td>\n",
       "      <td>0.480000</td>\n",
       "      <td>4.5</td>\n",
       "      <td>5</td>\n",
       "      <td>5</td>\n",
       "    </tr>\n",
       "    <tr>\n",
       "      <th>8</th>\n",
       "      <td>X &lt;= 8.5</td>\n",
       "      <td>0.463233</td>\n",
       "      <td>0.498866</td>\n",
       "      <td>0.000000</td>\n",
       "      <td>8.5</td>\n",
       "      <td>9</td>\n",
       "      <td>1</td>\n",
       "    </tr>\n",
       "    <tr>\n",
       "      <th>7</th>\n",
       "      <td>X &lt;= 7.5</td>\n",
       "      <td>0.468805</td>\n",
       "      <td>0.484056</td>\n",
       "      <td>0.420000</td>\n",
       "      <td>7.5</td>\n",
       "      <td>8</td>\n",
       "      <td>2</td>\n",
       "    </tr>\n",
       "    <tr>\n",
       "      <th>3</th>\n",
       "      <td>X &lt;= 3.5</td>\n",
       "      <td>0.495871</td>\n",
       "      <td>0.495000</td>\n",
       "      <td>0.496219</td>\n",
       "      <td>3.5</td>\n",
       "      <td>4</td>\n",
       "      <td>6</td>\n",
       "    </tr>\n",
       "  </tbody>\n",
       "</table>\n",
       "</div>"
      ],
      "text/plain": [
       "       分裂条件      gini  left-gini  right-gini  split  left-samples  \\\n",
       "5  X <= 5.5  0.269315   0.336735    0.218750    5.5             6   \n",
       "2  X <= 2.5  0.365651   0.000000    0.465374    2.5             3   \n",
       "6  X <= 6.5  0.379443   0.439817    0.290657    6.5             7   \n",
       "1  X <= 1.5  0.411429   0.000000    0.480000    1.5             2   \n",
       "0  X <= 0.5  0.454810   0.000000    0.489796    0.5             1   \n",
       "4  X <= 4.5  0.455740   0.412071    0.480000    4.5             5   \n",
       "8  X <= 8.5  0.463233   0.498866    0.000000    8.5             9   \n",
       "7  X <= 7.5  0.468805   0.484056    0.420000    7.5             8   \n",
       "3  X <= 3.5  0.495871   0.495000    0.496219    3.5             4   \n",
       "\n",
       "   right-samples  \n",
       "5              4  \n",
       "2              7  \n",
       "6              3  \n",
       "1              8  \n",
       "0              9  \n",
       "4              5  \n",
       "8              1  \n",
       "7              2  \n",
       "3              6  "
      ]
     },
     "execution_count": 62,
     "metadata": {},
     "output_type": "execute_result"
    }
   ],
   "source": [
    "split_result(X, y, w3)"
   ]
  },
  {
   "cell_type": "code",
   "execution_count": 63,
   "metadata": {},
   "outputs": [
    {
     "data": {
      "text/plain": [
       "(0.1818181818181818, 0.7520386983881371)"
      ]
     },
     "execution_count": 63,
     "metadata": {},
     "output_type": "execute_result"
    }
   ],
   "source": [
    "y3_ = model[2].predict(X)\n",
    "err3 = ((y != y3_) * w3).sum()\n",
    "alpha3 = 1 / 2 * np.log((1- err3) / err3)\n",
    "err3, alpha3"
   ]
  },
  {
   "cell_type": "code",
   "execution_count": 64,
   "metadata": {},
   "outputs": [
    {
     "data": {
      "text/plain": [
       "(0.42364893019360184, 0.6496414920651306, 0.7520386983881371)"
      ]
     },
     "execution_count": 64,
     "metadata": {},
     "output_type": "execute_result"
    }
   ],
   "source": [
    "alpha1, alpha2, alpha3"
   ]
  },
  {
   "cell_type": "markdown",
   "metadata": {},
   "source": [
    "#### 1.7 弱学习器聚合"
   ]
  },
  {
   "cell_type": "code",
   "execution_count": 79,
   "metadata": {},
   "outputs": [
    {
     "name": "stdout",
     "output_type": "stream",
     "text": [
      "F      :[0.32, 0.32, 0.32, -0.53, -0.53, -0.53, 0.98, 0.98, 0.98, -0.32]\n",
      "tree123:[ 1  1  1 -1 -1 -1  1  1  1 -1]\n",
      "tree1  :[ 1  1  1 -1 -1 -1 -1 -1 -1 -1]\n",
      "tree2  :[ 1  1  1  1  1  1  1  1  1 -1]\n",
      "tree3  :[-1 -1 -1 -1 -1 -1  1  1  1  1]\n"
     ]
    }
   ],
   "source": [
    "F = alpha1 * y1_ + alpha2 * y2_ + alpha3 * y3_\n",
    "y_ = np.array([1 if n > 0 else -1 for n in F])\n",
    "print(f\"F      :{list(map(lambda x: round(x, 2), F))}\")\n",
    "print(f\"tree123:{y_}\")\n",
    "print(f\"tree1  :{y1_}\")\n",
    "print(f\"tree2  :{y2_}\")\n",
    "print(f\"tree3  :{y3_}\")"
   ]
  },
  {
   "cell_type": "code",
   "execution_count": null,
   "metadata": {},
   "outputs": [],
   "source": []
  }
 ],
 "metadata": {
  "kernelspec": {
   "display_name": "ai",
   "language": "python",
   "name": "python3"
  },
  "language_info": {
   "codemirror_mode": {
    "name": "ipython",
    "version": 3
   },
   "file_extension": ".py",
   "mimetype": "text/x-python",
   "name": "python",
   "nbconvert_exporter": "python",
   "pygments_lexer": "ipython3",
   "version": "3.11.9"
  }
 },
 "nbformat": 4,
 "nbformat_minor": 2
}
